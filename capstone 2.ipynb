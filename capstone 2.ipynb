{
 "cells": [
  {
   "cell_type": "markdown",
   "metadata": {},
   "source": [
    "# Latar Belakang"
   ]
  },
  {
   "cell_type": "markdown",
   "metadata": {},
   "source": [
    "AWS atau Amazone Web Services merupakan sebuah perusahaaan SaaS (Software as a service) yang melayani dalam bentuk *Cloud Computing* atau Komputisi awan. AWS sering digunakan untuk analitik, penyimpanan data, layanan aplikasi, jaringan, dan berbagai produk lainnya. Dalam kasus ini, AWS ingin mencari tahu bagaimana meningkatan *revenue* mereka. Utamanya ingin mengurangi kerugian-kerugian yang dialami. Untuk itu kita akan menganalisa bagaimana kerugian ini dapat terjadi, dan apa solusi secara bisnis untuk meningkatkan keuntungan mereka."
   ]
  },
  {
   "cell_type": "markdown",
   "metadata": {},
   "source": [
    "## Objektif utama"
   ]
  },
  {
   "cell_type": "markdown",
   "metadata": {},
   "source": [
    "1. Mencari tahu apa yang membuat kerugian mereka begitu tinggi, dan ingin solusi untuk menguranginya."
   ]
  },
  {
   "cell_type": "markdown",
   "metadata": {},
   "source": [
    "## Import Library"
   ]
  },
  {
   "cell_type": "code",
   "execution_count": 2,
   "metadata": {},
   "outputs": [],
   "source": [
    "import pandas as pd\n",
    "import numpy as np\n",
    "import matplotlib.pyplot as plt\n",
    "import seaborn as sns"
   ]
  },
  {
   "cell_type": "markdown",
   "metadata": {},
   "source": [
    "# Deskripsi Data"
   ]
  },
  {
   "cell_type": "markdown",
   "metadata": {},
   "source": [
    "Dataset Saas Sales ini memiliki data penjualan software sales dan marketing yang dijual ke bisnis atau yang biasa disebut *Business-to-business*(B2B). dengan total 19 Kolom yaitu:\n",
    "1. Row ID: ID Transaksi unik.\n",
    "2. Order ID: ID Order unik.\n",
    "3. Order Date: tanggal pesanan.\n",
    "4. Date Key: Tanggal dirubah ke kode (10 januari 2023 -> 01/12/2023 -> 20230112).\n",
    "5. Contact Name: Nama yang melakukan pesanan.\n",
    "6. Country: Negara sumber pesanan.\n",
    "7. City: Kota sumber pesanan.\n",
    "8. Region: Wilayah sumber pesanan.\n",
    "9. Subregion: Bagian wilayah sumber pesanan.\n",
    "10. Customer: Nama perusahaan pemesan.\n",
    "11. Customer ID: ID customer unik.\n",
    "12. Industry: Industri dari perusahaan pemesan.\n",
    "13. Segment: segmen perusahaan.\n",
    "14. Product: produk yang di pesan.\n",
    "15. License: nomor lisensi produk yang dipesan.\n",
    "16. Sales: total nominal transaksi.\n",
    "17. Quantity: Jumlah pesanan di transaksi.\n",
    "18. Discount: Diskon yang diberikan ke transaksinya.\n",
    "19. Profit: Keuntungan yang didapatkan dari transaksi."
   ]
  },
  {
   "cell_type": "code",
   "execution_count": 3,
   "metadata": {},
   "outputs": [],
   "source": [
    "df = pd.read_csv('SaaS-Sales.csv')"
   ]
  },
  {
   "cell_type": "code",
   "execution_count": 4,
   "metadata": {},
   "outputs": [
    {
     "data": {
      "text/html": [
       "<div>\n",
       "<style scoped>\n",
       "    .dataframe tbody tr th:only-of-type {\n",
       "        vertical-align: middle;\n",
       "    }\n",
       "\n",
       "    .dataframe tbody tr th {\n",
       "        vertical-align: top;\n",
       "    }\n",
       "\n",
       "    .dataframe thead th {\n",
       "        text-align: right;\n",
       "    }\n",
       "</style>\n",
       "<table border=\"1\" class=\"dataframe\">\n",
       "  <thead>\n",
       "    <tr style=\"text-align: right;\">\n",
       "      <th></th>\n",
       "      <th>Row ID</th>\n",
       "      <th>Order ID</th>\n",
       "      <th>Order Date</th>\n",
       "      <th>Date Key</th>\n",
       "      <th>Contact Name</th>\n",
       "      <th>Country</th>\n",
       "      <th>City</th>\n",
       "      <th>Region</th>\n",
       "      <th>Subregion</th>\n",
       "      <th>Customer</th>\n",
       "      <th>Customer ID</th>\n",
       "      <th>Industry</th>\n",
       "      <th>Segment</th>\n",
       "      <th>Product</th>\n",
       "      <th>License</th>\n",
       "      <th>Sales</th>\n",
       "      <th>Quantity</th>\n",
       "      <th>Discount</th>\n",
       "      <th>Profit</th>\n",
       "    </tr>\n",
       "  </thead>\n",
       "  <tbody>\n",
       "    <tr>\n",
       "      <th>0</th>\n",
       "      <td>1</td>\n",
       "      <td>EMEA-2022-152156</td>\n",
       "      <td>11/9/2022</td>\n",
       "      <td>20221109</td>\n",
       "      <td>Nathan Bell</td>\n",
       "      <td>Ireland</td>\n",
       "      <td>Dublin</td>\n",
       "      <td>EMEA</td>\n",
       "      <td>UKIR</td>\n",
       "      <td>Chevron</td>\n",
       "      <td>1017</td>\n",
       "      <td>Energy</td>\n",
       "      <td>SMB</td>\n",
       "      <td>Marketing Suite</td>\n",
       "      <td>16GRM07R1K</td>\n",
       "      <td>261.9600</td>\n",
       "      <td>2</td>\n",
       "      <td>0.00</td>\n",
       "      <td>41.9136</td>\n",
       "    </tr>\n",
       "    <tr>\n",
       "      <th>1</th>\n",
       "      <td>2</td>\n",
       "      <td>EMEA-2022-152156</td>\n",
       "      <td>11/9/2022</td>\n",
       "      <td>20221109</td>\n",
       "      <td>Nathan Bell</td>\n",
       "      <td>Ireland</td>\n",
       "      <td>Dublin</td>\n",
       "      <td>EMEA</td>\n",
       "      <td>UKIR</td>\n",
       "      <td>Chevron</td>\n",
       "      <td>1017</td>\n",
       "      <td>Energy</td>\n",
       "      <td>SMB</td>\n",
       "      <td>FinanceHub</td>\n",
       "      <td>QLIW57KZUV</td>\n",
       "      <td>731.9400</td>\n",
       "      <td>3</td>\n",
       "      <td>0.00</td>\n",
       "      <td>219.5820</td>\n",
       "    </tr>\n",
       "    <tr>\n",
       "      <th>2</th>\n",
       "      <td>3</td>\n",
       "      <td>AMER-2022-138688</td>\n",
       "      <td>6/13/2022</td>\n",
       "      <td>20220613</td>\n",
       "      <td>Deirdre Bailey</td>\n",
       "      <td>United States</td>\n",
       "      <td>New York City</td>\n",
       "      <td>AMER</td>\n",
       "      <td>NAMER</td>\n",
       "      <td>Phillips 66</td>\n",
       "      <td>1056</td>\n",
       "      <td>Energy</td>\n",
       "      <td>Strategic</td>\n",
       "      <td>FinanceHub</td>\n",
       "      <td>JI6BVL70HQ</td>\n",
       "      <td>14.6200</td>\n",
       "      <td>2</td>\n",
       "      <td>0.00</td>\n",
       "      <td>6.8714</td>\n",
       "    </tr>\n",
       "    <tr>\n",
       "      <th>3</th>\n",
       "      <td>4</td>\n",
       "      <td>EMEA-2021-108966</td>\n",
       "      <td>10/11/2021</td>\n",
       "      <td>20211011</td>\n",
       "      <td>Zoe Hodges</td>\n",
       "      <td>Germany</td>\n",
       "      <td>Stuttgart</td>\n",
       "      <td>EMEA</td>\n",
       "      <td>EU-WEST</td>\n",
       "      <td>Royal Dutch Shell</td>\n",
       "      <td>1031</td>\n",
       "      <td>Energy</td>\n",
       "      <td>SMB</td>\n",
       "      <td>ContactMatcher</td>\n",
       "      <td>DE9GJKGD44</td>\n",
       "      <td>957.5775</td>\n",
       "      <td>5</td>\n",
       "      <td>0.45</td>\n",
       "      <td>-383.0310</td>\n",
       "    </tr>\n",
       "    <tr>\n",
       "      <th>4</th>\n",
       "      <td>5</td>\n",
       "      <td>EMEA-2021-108966</td>\n",
       "      <td>10/11/2021</td>\n",
       "      <td>20211011</td>\n",
       "      <td>Zoe Hodges</td>\n",
       "      <td>Germany</td>\n",
       "      <td>Stuttgart</td>\n",
       "      <td>EMEA</td>\n",
       "      <td>EU-WEST</td>\n",
       "      <td>Royal Dutch Shell</td>\n",
       "      <td>1031</td>\n",
       "      <td>Energy</td>\n",
       "      <td>SMB</td>\n",
       "      <td>Marketing Suite - Gold</td>\n",
       "      <td>OIF7NY23WD</td>\n",
       "      <td>22.3680</td>\n",
       "      <td>2</td>\n",
       "      <td>0.20</td>\n",
       "      <td>2.5164</td>\n",
       "    </tr>\n",
       "  </tbody>\n",
       "</table>\n",
       "</div>"
      ],
      "text/plain": [
       "   Row ID          Order ID  Order Date  Date Key    Contact Name  \\\n",
       "0       1  EMEA-2022-152156   11/9/2022  20221109     Nathan Bell   \n",
       "1       2  EMEA-2022-152156   11/9/2022  20221109     Nathan Bell   \n",
       "2       3  AMER-2022-138688   6/13/2022  20220613  Deirdre Bailey   \n",
       "3       4  EMEA-2021-108966  10/11/2021  20211011      Zoe Hodges   \n",
       "4       5  EMEA-2021-108966  10/11/2021  20211011      Zoe Hodges   \n",
       "\n",
       "         Country           City Region Subregion           Customer  \\\n",
       "0        Ireland         Dublin   EMEA      UKIR            Chevron   \n",
       "1        Ireland         Dublin   EMEA      UKIR            Chevron   \n",
       "2  United States  New York City   AMER     NAMER        Phillips 66   \n",
       "3        Germany      Stuttgart   EMEA   EU-WEST  Royal Dutch Shell   \n",
       "4        Germany      Stuttgart   EMEA   EU-WEST  Royal Dutch Shell   \n",
       "\n",
       "   Customer ID Industry    Segment                 Product     License  \\\n",
       "0         1017   Energy        SMB         Marketing Suite  16GRM07R1K   \n",
       "1         1017   Energy        SMB              FinanceHub  QLIW57KZUV   \n",
       "2         1056   Energy  Strategic              FinanceHub  JI6BVL70HQ   \n",
       "3         1031   Energy        SMB          ContactMatcher  DE9GJKGD44   \n",
       "4         1031   Energy        SMB  Marketing Suite - Gold  OIF7NY23WD   \n",
       "\n",
       "      Sales  Quantity  Discount    Profit  \n",
       "0  261.9600         2      0.00   41.9136  \n",
       "1  731.9400         3      0.00  219.5820  \n",
       "2   14.6200         2      0.00    6.8714  \n",
       "3  957.5775         5      0.45 -383.0310  \n",
       "4   22.3680         2      0.20    2.5164  "
      ]
     },
     "execution_count": 4,
     "metadata": {},
     "output_type": "execute_result"
    }
   ],
   "source": [
    "df.head()"
   ]
  },
  {
   "cell_type": "markdown",
   "metadata": {},
   "source": [
    "# Analisis Data Eksploratif\n",
    "Untuk mengetahui apa saja yang perlu dilakukan dalam pembersihan data, pengubahan data, dan analisa data, ada keperluan untuk mengeksplorasi terlebih dahulu data secara mendalam agar dapat melakukan langkah-langkah yang tepat. Dari tahap ini kita dapat mendapatkan alasan yang baik untuk setiap proses *data cleaning*, *data transformation*, dan *data analysis*."
   ]
  },
  {
   "cell_type": "markdown",
   "metadata": {},
   "source": [
    "## Analisis deskriptif"
   ]
  },
  {
   "cell_type": "code",
   "execution_count": 5,
   "metadata": {},
   "outputs": [
    {
     "name": "stdout",
     "output_type": "stream",
     "text": [
      "<class 'pandas.core.frame.DataFrame'>\n",
      "RangeIndex: 9994 entries, 0 to 9993\n",
      "Data columns (total 19 columns):\n",
      " #   Column        Non-Null Count  Dtype  \n",
      "---  ------        --------------  -----  \n",
      " 0   Row ID        9994 non-null   int64  \n",
      " 1   Order ID      9994 non-null   object \n",
      " 2   Order Date    9994 non-null   object \n",
      " 3   Date Key      9994 non-null   int64  \n",
      " 4   Contact Name  9994 non-null   object \n",
      " 5   Country       9994 non-null   object \n",
      " 6   City          9994 non-null   object \n",
      " 7   Region        9994 non-null   object \n",
      " 8   Subregion     9994 non-null   object \n",
      " 9   Customer      9994 non-null   object \n",
      " 10  Customer ID   9994 non-null   int64  \n",
      " 11  Industry      9994 non-null   object \n",
      " 12  Segment       9994 non-null   object \n",
      " 13  Product       9994 non-null   object \n",
      " 14  License       9994 non-null   object \n",
      " 15  Sales         9994 non-null   float64\n",
      " 16  Quantity      9994 non-null   int64  \n",
      " 17  Discount      9994 non-null   float64\n",
      " 18  Profit        9994 non-null   float64\n",
      "dtypes: float64(3), int64(4), object(12)\n",
      "memory usage: 1.4+ MB\n"
     ]
    }
   ],
   "source": [
    "df.info()"
   ]
  },
  {
   "cell_type": "code",
   "execution_count": 6,
   "metadata": {},
   "outputs": [
    {
     "data": {
      "text/html": [
       "<div>\n",
       "<style scoped>\n",
       "    .dataframe tbody tr th:only-of-type {\n",
       "        vertical-align: middle;\n",
       "    }\n",
       "\n",
       "    .dataframe tbody tr th {\n",
       "        vertical-align: top;\n",
       "    }\n",
       "\n",
       "    .dataframe thead th {\n",
       "        text-align: right;\n",
       "    }\n",
       "</style>\n",
       "<table border=\"1\" class=\"dataframe\">\n",
       "  <thead>\n",
       "    <tr style=\"text-align: right;\">\n",
       "      <th></th>\n",
       "      <th>Row ID</th>\n",
       "      <th>Date Key</th>\n",
       "      <th>Customer ID</th>\n",
       "      <th>Sales</th>\n",
       "      <th>Quantity</th>\n",
       "      <th>Discount</th>\n",
       "      <th>Profit</th>\n",
       "    </tr>\n",
       "  </thead>\n",
       "  <tbody>\n",
       "    <tr>\n",
       "      <th>mean</th>\n",
       "      <td>4997.500000</td>\n",
       "      <td>2.021803e+07</td>\n",
       "      <td>1049.771963</td>\n",
       "      <td>229.858001</td>\n",
       "      <td>3.789574</td>\n",
       "      <td>0.156203</td>\n",
       "      <td>28.656896</td>\n",
       "    </tr>\n",
       "    <tr>\n",
       "      <th>std</th>\n",
       "      <td>2885.163629</td>\n",
       "      <td>1.123898e+04</td>\n",
       "      <td>29.719388</td>\n",
       "      <td>623.245101</td>\n",
       "      <td>2.225110</td>\n",
       "      <td>0.206452</td>\n",
       "      <td>234.260108</td>\n",
       "    </tr>\n",
       "    <tr>\n",
       "      <th>min</th>\n",
       "      <td>1.000000</td>\n",
       "      <td>2.020010e+07</td>\n",
       "      <td>1001.000000</td>\n",
       "      <td>0.444000</td>\n",
       "      <td>1.000000</td>\n",
       "      <td>0.000000</td>\n",
       "      <td>-6599.978000</td>\n",
       "    </tr>\n",
       "    <tr>\n",
       "      <th>25%</th>\n",
       "      <td>2499.250000</td>\n",
       "      <td>2.021052e+07</td>\n",
       "      <td>1024.000000</td>\n",
       "      <td>17.280000</td>\n",
       "      <td>2.000000</td>\n",
       "      <td>0.000000</td>\n",
       "      <td>1.728750</td>\n",
       "    </tr>\n",
       "    <tr>\n",
       "      <th>50%</th>\n",
       "      <td>4997.500000</td>\n",
       "      <td>2.022063e+07</td>\n",
       "      <td>1049.000000</td>\n",
       "      <td>54.490000</td>\n",
       "      <td>3.000000</td>\n",
       "      <td>0.200000</td>\n",
       "      <td>8.666500</td>\n",
       "    </tr>\n",
       "    <tr>\n",
       "      <th>75%</th>\n",
       "      <td>7495.750000</td>\n",
       "      <td>2.023052e+07</td>\n",
       "      <td>1076.000000</td>\n",
       "      <td>209.940000</td>\n",
       "      <td>5.000000</td>\n",
       "      <td>0.200000</td>\n",
       "      <td>29.364000</td>\n",
       "    </tr>\n",
       "    <tr>\n",
       "      <th>max</th>\n",
       "      <td>9994.000000</td>\n",
       "      <td>2.023123e+07</td>\n",
       "      <td>1101.000000</td>\n",
       "      <td>22638.480000</td>\n",
       "      <td>14.000000</td>\n",
       "      <td>0.800000</td>\n",
       "      <td>8399.976000</td>\n",
       "    </tr>\n",
       "  </tbody>\n",
       "</table>\n",
       "</div>"
      ],
      "text/plain": [
       "           Row ID      Date Key  Customer ID         Sales   Quantity  \\\n",
       "mean  4997.500000  2.021803e+07  1049.771963    229.858001   3.789574   \n",
       "std   2885.163629  1.123898e+04    29.719388    623.245101   2.225110   \n",
       "min      1.000000  2.020010e+07  1001.000000      0.444000   1.000000   \n",
       "25%   2499.250000  2.021052e+07  1024.000000     17.280000   2.000000   \n",
       "50%   4997.500000  2.022063e+07  1049.000000     54.490000   3.000000   \n",
       "75%   7495.750000  2.023052e+07  1076.000000    209.940000   5.000000   \n",
       "max   9994.000000  2.023123e+07  1101.000000  22638.480000  14.000000   \n",
       "\n",
       "      Discount       Profit  \n",
       "mean  0.156203    28.656896  \n",
       "std   0.206452   234.260108  \n",
       "min   0.000000 -6599.978000  \n",
       "25%   0.000000     1.728750  \n",
       "50%   0.200000     8.666500  \n",
       "75%   0.200000    29.364000  \n",
       "max   0.800000  8399.976000  "
      ]
     },
     "execution_count": 6,
     "metadata": {},
     "output_type": "execute_result"
    }
   ],
   "source": [
    "df.describe()[1:]"
   ]
  },
  {
   "cell_type": "code",
   "execution_count": 7,
   "metadata": {},
   "outputs": [
    {
     "data": {
      "text/html": [
       "<div>\n",
       "<style scoped>\n",
       "    .dataframe tbody tr th:only-of-type {\n",
       "        vertical-align: middle;\n",
       "    }\n",
       "\n",
       "    .dataframe tbody tr th {\n",
       "        vertical-align: top;\n",
       "    }\n",
       "\n",
       "    .dataframe thead th {\n",
       "        text-align: right;\n",
       "    }\n",
       "</style>\n",
       "<table border=\"1\" class=\"dataframe\">\n",
       "  <thead>\n",
       "    <tr style=\"text-align: right;\">\n",
       "      <th></th>\n",
       "      <th>Row ID</th>\n",
       "      <th>Order ID</th>\n",
       "      <th>Order Date</th>\n",
       "      <th>Date Key</th>\n",
       "      <th>Contact Name</th>\n",
       "      <th>Country</th>\n",
       "      <th>City</th>\n",
       "      <th>Region</th>\n",
       "      <th>Subregion</th>\n",
       "      <th>Customer</th>\n",
       "      <th>Customer ID</th>\n",
       "      <th>Industry</th>\n",
       "      <th>Segment</th>\n",
       "      <th>Product</th>\n",
       "      <th>License</th>\n",
       "      <th>Sales</th>\n",
       "      <th>Quantity</th>\n",
       "      <th>Discount</th>\n",
       "      <th>Profit</th>\n",
       "    </tr>\n",
       "  </thead>\n",
       "  <tbody>\n",
       "    <tr>\n",
       "      <th>7772</th>\n",
       "      <td>7773</td>\n",
       "      <td>AMER-2022-108196</td>\n",
       "      <td>11/26/2022</td>\n",
       "      <td>20221126</td>\n",
       "      <td>Faith Campbell</td>\n",
       "      <td>Mexico</td>\n",
       "      <td>Tijuana</td>\n",
       "      <td>AMER</td>\n",
       "      <td>LATAM</td>\n",
       "      <td>Allstate</td>\n",
       "      <td>1003</td>\n",
       "      <td>Finance</td>\n",
       "      <td>SMB</td>\n",
       "      <td>Big Ol Database</td>\n",
       "      <td>PM66ENV0DN</td>\n",
       "      <td>4499.985</td>\n",
       "      <td>5</td>\n",
       "      <td>0.7</td>\n",
       "      <td>-6599.978</td>\n",
       "    </tr>\n",
       "  </tbody>\n",
       "</table>\n",
       "</div>"
      ],
      "text/plain": [
       "      Row ID          Order ID  Order Date  Date Key    Contact Name Country  \\\n",
       "7772    7773  AMER-2022-108196  11/26/2022  20221126  Faith Campbell  Mexico   \n",
       "\n",
       "         City Region Subregion  Customer  Customer ID Industry Segment  \\\n",
       "7772  Tijuana   AMER     LATAM  Allstate         1003  Finance     SMB   \n",
       "\n",
       "              Product     License     Sales  Quantity  Discount    Profit  \n",
       "7772  Big Ol Database  PM66ENV0DN  4499.985         5       0.7 -6599.978  "
      ]
     },
     "execution_count": 7,
     "metadata": {},
     "output_type": "execute_result"
    }
   ],
   "source": [
    "df[df['Profit'] == -6599.978] "
   ]
  },
  {
   "cell_type": "code",
   "execution_count": 8,
   "metadata": {},
   "outputs": [
    {
     "data": {
      "text/plain": [
       "99"
      ]
     },
     "execution_count": 8,
     "metadata": {},
     "output_type": "execute_result"
    }
   ],
   "source": [
    "df['Customer'].nunique()"
   ]
  },
  {
   "cell_type": "code",
   "execution_count": 9,
   "metadata": {},
   "outputs": [
    {
     "data": {
      "text/plain": [
       "Row ID          0\n",
       "Order ID        0\n",
       "Order Date      0\n",
       "Date Key        0\n",
       "Contact Name    0\n",
       "Country         0\n",
       "City            0\n",
       "Region          0\n",
       "Subregion       0\n",
       "Customer        0\n",
       "Customer ID     0\n",
       "Industry        0\n",
       "Segment         0\n",
       "Product         0\n",
       "License         0\n",
       "Sales           0\n",
       "Quantity        0\n",
       "Discount        0\n",
       "Profit          0\n",
       "dtype: int64"
      ]
     },
     "execution_count": 9,
     "metadata": {},
     "output_type": "execute_result"
    }
   ],
   "source": [
    "df.isna().sum()"
   ]
  },
  {
   "cell_type": "markdown",
   "metadata": {},
   "source": [
    "## Pengecekan duplicates"
   ]
  },
  {
   "cell_type": "code",
   "execution_count": 10,
   "metadata": {},
   "outputs": [
    {
     "data": {
      "text/plain": [
       "0"
      ]
     },
     "execution_count": 10,
     "metadata": {},
     "output_type": "execute_result"
    }
   ],
   "source": [
    "df.duplicated().isna().sum()"
   ]
  },
  {
   "cell_type": "code",
   "execution_count": 11,
   "metadata": {},
   "outputs": [
    {
     "data": {
      "text/plain": [
       "4985"
      ]
     },
     "execution_count": 11,
     "metadata": {},
     "output_type": "execute_result"
    }
   ],
   "source": [
    "df['Order ID'].duplicated().sum()"
   ]
  },
  {
   "cell_type": "code",
   "execution_count": 12,
   "metadata": {},
   "outputs": [
    {
     "data": {
      "text/plain": [
       "0"
      ]
     },
     "execution_count": 12,
     "metadata": {},
     "output_type": "execute_result"
    }
   ],
   "source": [
    "df['License'].duplicated().sum()"
   ]
  },
  {
   "cell_type": "markdown",
   "metadata": {},
   "source": [
    "Secara umum kita dapat mengetahui beberapa hal dari *dataset* *SaaS Sales* ini:\n",
    "1. *Dataset* ini memiliki 9994 baris dan 19 kolom.\n",
    "2. Tidak memiliki missing values.\n",
    "3. Order ID memiliki duplicates, artinya produk-produk yang berbeda dapat dimasukan ke dalam satu pesanan.\n",
    "3. Customer ID hanya ada 99 unik. artinya hanya ada 99 pelanggan yang berbeda dari 9994 baris transaksi.\n",
    "4. Minimal nilai sales adalah 0.444, merupakan potensi sebuah *anomali*\n",
    "5. Profit terkecil adalah -6599.978, merupakan potensi sebuah *anomali*. namun tidak jarang bagi SaaS software untuk rugi \n",
    "6. Kolom *Order Date* memiliki tipe data *object* yang seharusnya datetime"
   ]
  },
  {
   "cell_type": "markdown",
   "metadata": {},
   "source": [
    "## Eksplorasi lebih lanjut"
   ]
  },
  {
   "cell_type": "code",
   "execution_count": 13,
   "metadata": {},
   "outputs": [
    {
     "data": {
      "text/html": [
       "<div>\n",
       "<style scoped>\n",
       "    .dataframe tbody tr th:only-of-type {\n",
       "        vertical-align: middle;\n",
       "    }\n",
       "\n",
       "    .dataframe tbody tr th {\n",
       "        vertical-align: top;\n",
       "    }\n",
       "\n",
       "    .dataframe thead th {\n",
       "        text-align: right;\n",
       "    }\n",
       "</style>\n",
       "<table border=\"1\" class=\"dataframe\">\n",
       "  <thead>\n",
       "    <tr style=\"text-align: right;\">\n",
       "      <th></th>\n",
       "      <th>Row ID</th>\n",
       "      <th>Order ID</th>\n",
       "      <th>Order Date</th>\n",
       "      <th>Date Key</th>\n",
       "      <th>Contact Name</th>\n",
       "      <th>Country</th>\n",
       "      <th>City</th>\n",
       "      <th>Region</th>\n",
       "      <th>Subregion</th>\n",
       "      <th>Customer</th>\n",
       "      <th>Customer ID</th>\n",
       "      <th>Industry</th>\n",
       "      <th>Segment</th>\n",
       "      <th>Product</th>\n",
       "      <th>License</th>\n",
       "      <th>Sales</th>\n",
       "      <th>Quantity</th>\n",
       "      <th>Discount</th>\n",
       "      <th>Profit</th>\n",
       "    </tr>\n",
       "  </thead>\n",
       "  <tbody>\n",
       "    <tr>\n",
       "      <th>0</th>\n",
       "      <td>1</td>\n",
       "      <td>EMEA-2022-152156</td>\n",
       "      <td>11/9/2022</td>\n",
       "      <td>20221109</td>\n",
       "      <td>Nathan Bell</td>\n",
       "      <td>Ireland</td>\n",
       "      <td>Dublin</td>\n",
       "      <td>EMEA</td>\n",
       "      <td>UKIR</td>\n",
       "      <td>Chevron</td>\n",
       "      <td>1017</td>\n",
       "      <td>Energy</td>\n",
       "      <td>SMB</td>\n",
       "      <td>Marketing Suite</td>\n",
       "      <td>16GRM07R1K</td>\n",
       "      <td>261.9600</td>\n",
       "      <td>2</td>\n",
       "      <td>0.00</td>\n",
       "      <td>41.9136</td>\n",
       "    </tr>\n",
       "    <tr>\n",
       "      <th>1</th>\n",
       "      <td>2</td>\n",
       "      <td>EMEA-2022-152156</td>\n",
       "      <td>11/9/2022</td>\n",
       "      <td>20221109</td>\n",
       "      <td>Nathan Bell</td>\n",
       "      <td>Ireland</td>\n",
       "      <td>Dublin</td>\n",
       "      <td>EMEA</td>\n",
       "      <td>UKIR</td>\n",
       "      <td>Chevron</td>\n",
       "      <td>1017</td>\n",
       "      <td>Energy</td>\n",
       "      <td>SMB</td>\n",
       "      <td>FinanceHub</td>\n",
       "      <td>QLIW57KZUV</td>\n",
       "      <td>731.9400</td>\n",
       "      <td>3</td>\n",
       "      <td>0.00</td>\n",
       "      <td>219.5820</td>\n",
       "    </tr>\n",
       "    <tr>\n",
       "      <th>2</th>\n",
       "      <td>3</td>\n",
       "      <td>AMER-2022-138688</td>\n",
       "      <td>6/13/2022</td>\n",
       "      <td>20220613</td>\n",
       "      <td>Deirdre Bailey</td>\n",
       "      <td>United States</td>\n",
       "      <td>New York City</td>\n",
       "      <td>AMER</td>\n",
       "      <td>NAMER</td>\n",
       "      <td>Phillips 66</td>\n",
       "      <td>1056</td>\n",
       "      <td>Energy</td>\n",
       "      <td>Strategic</td>\n",
       "      <td>FinanceHub</td>\n",
       "      <td>JI6BVL70HQ</td>\n",
       "      <td>14.6200</td>\n",
       "      <td>2</td>\n",
       "      <td>0.00</td>\n",
       "      <td>6.8714</td>\n",
       "    </tr>\n",
       "    <tr>\n",
       "      <th>3</th>\n",
       "      <td>4</td>\n",
       "      <td>EMEA-2021-108966</td>\n",
       "      <td>10/11/2021</td>\n",
       "      <td>20211011</td>\n",
       "      <td>Zoe Hodges</td>\n",
       "      <td>Germany</td>\n",
       "      <td>Stuttgart</td>\n",
       "      <td>EMEA</td>\n",
       "      <td>EU-WEST</td>\n",
       "      <td>Royal Dutch Shell</td>\n",
       "      <td>1031</td>\n",
       "      <td>Energy</td>\n",
       "      <td>SMB</td>\n",
       "      <td>ContactMatcher</td>\n",
       "      <td>DE9GJKGD44</td>\n",
       "      <td>957.5775</td>\n",
       "      <td>5</td>\n",
       "      <td>0.45</td>\n",
       "      <td>-383.0310</td>\n",
       "    </tr>\n",
       "    <tr>\n",
       "      <th>4</th>\n",
       "      <td>5</td>\n",
       "      <td>EMEA-2021-108966</td>\n",
       "      <td>10/11/2021</td>\n",
       "      <td>20211011</td>\n",
       "      <td>Zoe Hodges</td>\n",
       "      <td>Germany</td>\n",
       "      <td>Stuttgart</td>\n",
       "      <td>EMEA</td>\n",
       "      <td>EU-WEST</td>\n",
       "      <td>Royal Dutch Shell</td>\n",
       "      <td>1031</td>\n",
       "      <td>Energy</td>\n",
       "      <td>SMB</td>\n",
       "      <td>Marketing Suite - Gold</td>\n",
       "      <td>OIF7NY23WD</td>\n",
       "      <td>22.3680</td>\n",
       "      <td>2</td>\n",
       "      <td>0.20</td>\n",
       "      <td>2.5164</td>\n",
       "    </tr>\n",
       "  </tbody>\n",
       "</table>\n",
       "</div>"
      ],
      "text/plain": [
       "   Row ID          Order ID  Order Date  Date Key    Contact Name  \\\n",
       "0       1  EMEA-2022-152156   11/9/2022  20221109     Nathan Bell   \n",
       "1       2  EMEA-2022-152156   11/9/2022  20221109     Nathan Bell   \n",
       "2       3  AMER-2022-138688   6/13/2022  20220613  Deirdre Bailey   \n",
       "3       4  EMEA-2021-108966  10/11/2021  20211011      Zoe Hodges   \n",
       "4       5  EMEA-2021-108966  10/11/2021  20211011      Zoe Hodges   \n",
       "\n",
       "         Country           City Region Subregion           Customer  \\\n",
       "0        Ireland         Dublin   EMEA      UKIR            Chevron   \n",
       "1        Ireland         Dublin   EMEA      UKIR            Chevron   \n",
       "2  United States  New York City   AMER     NAMER        Phillips 66   \n",
       "3        Germany      Stuttgart   EMEA   EU-WEST  Royal Dutch Shell   \n",
       "4        Germany      Stuttgart   EMEA   EU-WEST  Royal Dutch Shell   \n",
       "\n",
       "   Customer ID Industry    Segment                 Product     License  \\\n",
       "0         1017   Energy        SMB         Marketing Suite  16GRM07R1K   \n",
       "1         1017   Energy        SMB              FinanceHub  QLIW57KZUV   \n",
       "2         1056   Energy  Strategic              FinanceHub  JI6BVL70HQ   \n",
       "3         1031   Energy        SMB          ContactMatcher  DE9GJKGD44   \n",
       "4         1031   Energy        SMB  Marketing Suite - Gold  OIF7NY23WD   \n",
       "\n",
       "      Sales  Quantity  Discount    Profit  \n",
       "0  261.9600         2      0.00   41.9136  \n",
       "1  731.9400         3      0.00  219.5820  \n",
       "2   14.6200         2      0.00    6.8714  \n",
       "3  957.5775         5      0.45 -383.0310  \n",
       "4   22.3680         2      0.20    2.5164  "
      ]
     },
     "execution_count": 13,
     "metadata": {},
     "output_type": "execute_result"
    }
   ],
   "source": [
    "df.head()"
   ]
  },
  {
   "cell_type": "code",
   "execution_count": 14,
   "metadata": {},
   "outputs": [
    {
     "data": {
      "text/plain": [
       "6288    AMER-2020-100090\n",
       "6287    AMER-2020-100090\n",
       "1171    AMER-2020-100279\n",
       "3835    AMER-2020-100363\n",
       "3836    AMER-2020-100363\n",
       "              ...       \n",
       "5151    EMEA-2023-169929\n",
       "3315    EMEA-2023-169978\n",
       "3314    EMEA-2023-169978\n",
       "9828    EMEA-2023-169999\n",
       "9827    EMEA-2023-169999\n",
       "Name: Order ID, Length: 9994, dtype: object"
      ]
     },
     "execution_count": 14,
     "metadata": {},
     "output_type": "execute_result"
    }
   ],
   "source": [
    "df['Order ID'].sort_values(ascending=True)"
   ]
  },
  {
   "cell_type": "code",
   "execution_count": 15,
   "metadata": {},
   "outputs": [
    {
     "data": {
      "text/html": [
       "<div>\n",
       "<style scoped>\n",
       "    .dataframe tbody tr th:only-of-type {\n",
       "        vertical-align: middle;\n",
       "    }\n",
       "\n",
       "    .dataframe tbody tr th {\n",
       "        vertical-align: top;\n",
       "    }\n",
       "\n",
       "    .dataframe thead th {\n",
       "        text-align: right;\n",
       "    }\n",
       "</style>\n",
       "<table border=\"1\" class=\"dataframe\">\n",
       "  <thead>\n",
       "    <tr style=\"text-align: right;\">\n",
       "      <th></th>\n",
       "      <th>Row ID</th>\n",
       "      <th>Order ID</th>\n",
       "      <th>Order Date</th>\n",
       "      <th>Date Key</th>\n",
       "      <th>Contact Name</th>\n",
       "      <th>Country</th>\n",
       "      <th>City</th>\n",
       "      <th>Region</th>\n",
       "      <th>Subregion</th>\n",
       "      <th>Customer</th>\n",
       "      <th>Customer ID</th>\n",
       "      <th>Industry</th>\n",
       "      <th>Segment</th>\n",
       "      <th>Product</th>\n",
       "      <th>License</th>\n",
       "      <th>Sales</th>\n",
       "      <th>Quantity</th>\n",
       "      <th>Discount</th>\n",
       "      <th>Profit</th>\n",
       "    </tr>\n",
       "  </thead>\n",
       "  <tbody>\n",
       "    <tr>\n",
       "      <th>6287</th>\n",
       "      <td>6288</td>\n",
       "      <td>AMER-2020-100090</td>\n",
       "      <td>7/8/2020</td>\n",
       "      <td>20200708</td>\n",
       "      <td>Hannah Sanderson</td>\n",
       "      <td>United States</td>\n",
       "      <td>Los Angeles</td>\n",
       "      <td>AMER</td>\n",
       "      <td>NAMER</td>\n",
       "      <td>Verizon Communications</td>\n",
       "      <td>1094</td>\n",
       "      <td>Communications</td>\n",
       "      <td>Strategic</td>\n",
       "      <td>ContactMatcher</td>\n",
       "      <td>4BEAB9UXKH</td>\n",
       "      <td>502.488</td>\n",
       "      <td>3</td>\n",
       "      <td>0.2</td>\n",
       "      <td>-87.9354</td>\n",
       "    </tr>\n",
       "    <tr>\n",
       "      <th>6288</th>\n",
       "      <td>6289</td>\n",
       "      <td>AMER-2020-100090</td>\n",
       "      <td>7/8/2020</td>\n",
       "      <td>20200708</td>\n",
       "      <td>Hannah Sanderson</td>\n",
       "      <td>United States</td>\n",
       "      <td>Los Angeles</td>\n",
       "      <td>AMER</td>\n",
       "      <td>NAMER</td>\n",
       "      <td>Verizon Communications</td>\n",
       "      <td>1094</td>\n",
       "      <td>Communications</td>\n",
       "      <td>Strategic</td>\n",
       "      <td>ContactMatcher</td>\n",
       "      <td>AVBMH39MTD</td>\n",
       "      <td>196.704</td>\n",
       "      <td>6</td>\n",
       "      <td>0.2</td>\n",
       "      <td>68.8464</td>\n",
       "    </tr>\n",
       "  </tbody>\n",
       "</table>\n",
       "</div>"
      ],
      "text/plain": [
       "      Row ID          Order ID Order Date  Date Key      Contact Name  \\\n",
       "6287    6288  AMER-2020-100090   7/8/2020  20200708  Hannah Sanderson   \n",
       "6288    6289  AMER-2020-100090   7/8/2020  20200708  Hannah Sanderson   \n",
       "\n",
       "            Country         City Region Subregion                Customer  \\\n",
       "6287  United States  Los Angeles   AMER     NAMER  Verizon Communications   \n",
       "6288  United States  Los Angeles   AMER     NAMER  Verizon Communications   \n",
       "\n",
       "      Customer ID        Industry    Segment         Product     License  \\\n",
       "6287         1094  Communications  Strategic  ContactMatcher  4BEAB9UXKH   \n",
       "6288         1094  Communications  Strategic  ContactMatcher  AVBMH39MTD   \n",
       "\n",
       "        Sales  Quantity  Discount   Profit  \n",
       "6287  502.488         3       0.2 -87.9354  \n",
       "6288  196.704         6       0.2  68.8464  "
      ]
     },
     "execution_count": 15,
     "metadata": {},
     "output_type": "execute_result"
    }
   ],
   "source": [
    "df[df['Order ID'] == 'AMER-2020-100090']"
   ]
  },
  {
   "cell_type": "code",
   "execution_count": 16,
   "metadata": {},
   "outputs": [
    {
     "data": {
      "text/html": [
       "<div>\n",
       "<style scoped>\n",
       "    .dataframe tbody tr th:only-of-type {\n",
       "        vertical-align: middle;\n",
       "    }\n",
       "\n",
       "    .dataframe tbody tr th {\n",
       "        vertical-align: top;\n",
       "    }\n",
       "\n",
       "    .dataframe thead th {\n",
       "        text-align: right;\n",
       "    }\n",
       "</style>\n",
       "<table border=\"1\" class=\"dataframe\">\n",
       "  <thead>\n",
       "    <tr style=\"text-align: right;\">\n",
       "      <th></th>\n",
       "      <th>Row ID</th>\n",
       "      <th>Order ID</th>\n",
       "      <th>Order Date</th>\n",
       "      <th>Date Key</th>\n",
       "      <th>Contact Name</th>\n",
       "      <th>Country</th>\n",
       "      <th>City</th>\n",
       "      <th>Region</th>\n",
       "      <th>Subregion</th>\n",
       "      <th>Customer</th>\n",
       "      <th>Customer ID</th>\n",
       "      <th>Industry</th>\n",
       "      <th>Segment</th>\n",
       "      <th>Product</th>\n",
       "      <th>License</th>\n",
       "      <th>Sales</th>\n",
       "      <th>Quantity</th>\n",
       "      <th>Discount</th>\n",
       "      <th>Profit</th>\n",
       "    </tr>\n",
       "  </thead>\n",
       "  <tbody>\n",
       "    <tr>\n",
       "      <th>3835</th>\n",
       "      <td>3836</td>\n",
       "      <td>AMER-2020-100363</td>\n",
       "      <td>4/8/2020</td>\n",
       "      <td>20200408</td>\n",
       "      <td>Frank Ball</td>\n",
       "      <td>Chile</td>\n",
       "      <td>Santiago</td>\n",
       "      <td>AMER</td>\n",
       "      <td>LATAM</td>\n",
       "      <td>Carrefour</td>\n",
       "      <td>1048</td>\n",
       "      <td>Retail</td>\n",
       "      <td>Strategic</td>\n",
       "      <td>Storage</td>\n",
       "      <td>0O2MCUTMFW</td>\n",
       "      <td>2.368</td>\n",
       "      <td>2</td>\n",
       "      <td>0.2</td>\n",
       "      <td>0.8288</td>\n",
       "    </tr>\n",
       "    <tr>\n",
       "      <th>3836</th>\n",
       "      <td>3837</td>\n",
       "      <td>AMER-2020-100363</td>\n",
       "      <td>4/8/2020</td>\n",
       "      <td>20200408</td>\n",
       "      <td>Frank Ball</td>\n",
       "      <td>Chile</td>\n",
       "      <td>Santiago</td>\n",
       "      <td>AMER</td>\n",
       "      <td>LATAM</td>\n",
       "      <td>Carrefour</td>\n",
       "      <td>1048</td>\n",
       "      <td>Retail</td>\n",
       "      <td>Strategic</td>\n",
       "      <td>Support</td>\n",
       "      <td>7ZEJI08M1P</td>\n",
       "      <td>19.008</td>\n",
       "      <td>3</td>\n",
       "      <td>0.2</td>\n",
       "      <td>6.8904</td>\n",
       "    </tr>\n",
       "  </tbody>\n",
       "</table>\n",
       "</div>"
      ],
      "text/plain": [
       "      Row ID          Order ID Order Date  Date Key Contact Name Country  \\\n",
       "3835    3836  AMER-2020-100363   4/8/2020  20200408   Frank Ball   Chile   \n",
       "3836    3837  AMER-2020-100363   4/8/2020  20200408   Frank Ball   Chile   \n",
       "\n",
       "          City Region Subregion   Customer  Customer ID Industry    Segment  \\\n",
       "3835  Santiago   AMER     LATAM  Carrefour         1048   Retail  Strategic   \n",
       "3836  Santiago   AMER     LATAM  Carrefour         1048   Retail  Strategic   \n",
       "\n",
       "      Product     License   Sales  Quantity  Discount  Profit  \n",
       "3835  Storage  0O2MCUTMFW   2.368         2       0.2  0.8288  \n",
       "3836  Support  7ZEJI08M1P  19.008         3       0.2  6.8904  "
      ]
     },
     "execution_count": 16,
     "metadata": {},
     "output_type": "execute_result"
    }
   ],
   "source": [
    "df[df['Order ID'] == 'AMER-2020-100363']"
   ]
  },
  {
   "cell_type": "code",
   "execution_count": 17,
   "metadata": {},
   "outputs": [
    {
     "data": {
      "text/html": [
       "<div>\n",
       "<style scoped>\n",
       "    .dataframe tbody tr th:only-of-type {\n",
       "        vertical-align: middle;\n",
       "    }\n",
       "\n",
       "    .dataframe tbody tr th {\n",
       "        vertical-align: top;\n",
       "    }\n",
       "\n",
       "    .dataframe thead th {\n",
       "        text-align: right;\n",
       "    }\n",
       "</style>\n",
       "<table border=\"1\" class=\"dataframe\">\n",
       "  <thead>\n",
       "    <tr style=\"text-align: right;\">\n",
       "      <th></th>\n",
       "      <th>Row ID</th>\n",
       "      <th>Order ID</th>\n",
       "      <th>Order Date</th>\n",
       "      <th>Date Key</th>\n",
       "      <th>Contact Name</th>\n",
       "      <th>Country</th>\n",
       "      <th>City</th>\n",
       "      <th>Region</th>\n",
       "      <th>Subregion</th>\n",
       "      <th>Customer</th>\n",
       "      <th>Customer ID</th>\n",
       "      <th>Industry</th>\n",
       "      <th>Segment</th>\n",
       "      <th>Product</th>\n",
       "      <th>License</th>\n",
       "      <th>Sales</th>\n",
       "      <th>Quantity</th>\n",
       "      <th>Discount</th>\n",
       "      <th>Profit</th>\n",
       "    </tr>\n",
       "  </thead>\n",
       "  <tbody>\n",
       "    <tr>\n",
       "      <th>9827</th>\n",
       "      <td>9828</td>\n",
       "      <td>EMEA-2023-169999</td>\n",
       "      <td>6/20/2023</td>\n",
       "      <td>20230620</td>\n",
       "      <td>Melanie Young</td>\n",
       "      <td>United Kingdom</td>\n",
       "      <td>London</td>\n",
       "      <td>EMEA</td>\n",
       "      <td>UKIR</td>\n",
       "      <td>Daimler</td>\n",
       "      <td>1052</td>\n",
       "      <td>Transportation</td>\n",
       "      <td>Strategic</td>\n",
       "      <td>Marketing Suite - Gold</td>\n",
       "      <td>FTRN8DSZMD</td>\n",
       "      <td>129.300</td>\n",
       "      <td>2</td>\n",
       "      <td>0.0</td>\n",
       "      <td>6.4650</td>\n",
       "    </tr>\n",
       "    <tr>\n",
       "      <th>9828</th>\n",
       "      <td>9829</td>\n",
       "      <td>EMEA-2023-169999</td>\n",
       "      <td>6/20/2023</td>\n",
       "      <td>20230620</td>\n",
       "      <td>Melanie Young</td>\n",
       "      <td>United Kingdom</td>\n",
       "      <td>London</td>\n",
       "      <td>EMEA</td>\n",
       "      <td>UKIR</td>\n",
       "      <td>Daimler</td>\n",
       "      <td>1052</td>\n",
       "      <td>Transportation</td>\n",
       "      <td>Strategic</td>\n",
       "      <td>ContactMatcher</td>\n",
       "      <td>5JIPT0BG1B</td>\n",
       "      <td>11.568</td>\n",
       "      <td>3</td>\n",
       "      <td>0.2</td>\n",
       "      <td>3.7596</td>\n",
       "    </tr>\n",
       "  </tbody>\n",
       "</table>\n",
       "</div>"
      ],
      "text/plain": [
       "      Row ID          Order ID Order Date  Date Key   Contact Name  \\\n",
       "9827    9828  EMEA-2023-169999  6/20/2023  20230620  Melanie Young   \n",
       "9828    9829  EMEA-2023-169999  6/20/2023  20230620  Melanie Young   \n",
       "\n",
       "             Country    City Region Subregion Customer  Customer ID  \\\n",
       "9827  United Kingdom  London   EMEA      UKIR  Daimler         1052   \n",
       "9828  United Kingdom  London   EMEA      UKIR  Daimler         1052   \n",
       "\n",
       "            Industry    Segment                 Product     License    Sales  \\\n",
       "9827  Transportation  Strategic  Marketing Suite - Gold  FTRN8DSZMD  129.300   \n",
       "9828  Transportation  Strategic          ContactMatcher  5JIPT0BG1B   11.568   \n",
       "\n",
       "      Quantity  Discount  Profit  \n",
       "9827         2       0.0  6.4650  \n",
       "9828         3       0.2  3.7596  "
      ]
     },
     "execution_count": 17,
     "metadata": {},
     "output_type": "execute_result"
    }
   ],
   "source": [
    "df[df['Order ID'] == 'EMEA-2023-169999']"
   ]
  },
  {
   "cell_type": "markdown",
   "metadata": {},
   "source": [
    "## Pengecekan konsistensi kolom kategorikal"
   ]
  },
  {
   "cell_type": "code",
   "execution_count": 18,
   "metadata": {},
   "outputs": [
    {
     "data": {
      "text/plain": [
       "array(['Argentina', 'Australia', 'Austria', 'Belgium', 'Brazil', 'Canada',\n",
       "       'Chile', 'China', 'Colombia', 'Costa Rica', 'Croatia',\n",
       "       'Czech Republic', 'Denmark', 'Egypt', 'Finland', 'France',\n",
       "       'Germany', 'Greece', 'Iceland', 'India', 'Indonesia', 'Ireland',\n",
       "       'Israel', 'Italy', 'Japan', 'Luxembourg', 'Mexico', 'Netherlands',\n",
       "       'New Zealand', 'Norway', 'Philippines', 'Poland', 'Portugal',\n",
       "       'Qatar', 'Russia', 'Saudi Arabia', 'Singapore', 'Slovenia',\n",
       "       'South Africa', 'South Korea', 'Spain', 'Sweden', 'Taiwan',\n",
       "       'Turkey', 'Ukraine', 'United Arab Emirates', 'United Kingdom',\n",
       "       'United States'], dtype=object)"
      ]
     },
     "execution_count": 18,
     "metadata": {},
     "output_type": "execute_result"
    }
   ],
   "source": [
    "df['Country'].sort_values(ascending=True).unique()"
   ]
  },
  {
   "cell_type": "code",
   "execution_count": 19,
   "metadata": {},
   "outputs": [
    {
     "data": {
      "text/plain": [
       "array(['Abu Dhabi', 'Adelaide', 'Aichi', 'Alexandria', 'Alicante',\n",
       "       'Amsterdam', 'Anaheim', 'Ankara', 'Antofagasta', 'Antwerp',\n",
       "       'Arlington', 'Athens', 'Atlanta', 'Auckland', 'Aurora', 'Austin',\n",
       "       'Baltimore', 'Bandung', 'Bangalore', 'Barcelona', 'Bari',\n",
       "       'Beijing', 'Belfast', 'Belo Horizonte', 'Berlin', 'Birmingham',\n",
       "       'Bogotá', 'Bologna', 'Brasília', 'Brescia', 'Brighton', 'Brisbane',\n",
       "       'Bristol', 'Brno', 'Brussels', 'Buenos Aires', 'Buffalo',\n",
       "       'Burlington', 'Bursa', 'Busan', 'Cabo San Lucas', 'Cairo',\n",
       "       'Calgary', 'Cali', 'Canberra', 'Cancun', 'Cape Town', 'Cardiff',\n",
       "       'Catania', 'Charlotte', 'Chengdu', 'Chennai', 'Chiba', 'Chicago',\n",
       "       'Cleveland', 'Clinton', 'Cologne', 'Columbia', 'Columbus',\n",
       "       'Copenhagen', 'Cork', 'Córdoba', 'Daegu', 'Dallas', 'Davao City',\n",
       "       'Delhi', 'Denver', 'Detroit', 'Dhahran', 'Doha', 'Donetsk',\n",
       "       'Dresden', 'Dubai', 'Dublin', 'Edinburgh', 'Espoo', 'Everett',\n",
       "       'Florence', 'Fort Worth', 'Frankfurt', 'Franklin', 'Fresno',\n",
       "       'Fukuoka', 'Geelong', 'Genoa', 'Ghent', 'Glasgow', 'Gold Coast',\n",
       "       'Gothenburg', 'Granada', 'Guadalajara', 'Guangzhou', 'Gwangju',\n",
       "       'Hamburg', 'Hamilton', 'Hanover', 'Helsinki', 'Henderson',\n",
       "       'Hiroshima', 'Hobart', 'Hordaland', 'Houston', 'Huntsville',\n",
       "       'Hyderabad', 'Hyogo', 'Ibaraki', 'Incheon', 'Indianapolis',\n",
       "       'Istanbul', 'Izmir', 'Jackson', 'Jacksonville', 'Jakarta',\n",
       "       'Jeddah', 'Jerusalem', 'Johannesburg', 'Kanagawa', 'Kharkiv',\n",
       "       'Kolkata', 'Krakow', 'Kyiv', 'Kyoto', 'Lafayette', 'Lakeland',\n",
       "       'Lakewood', 'Lancaster', 'Las Vegas', 'Lawrence', 'Leeds',\n",
       "       'Leicester', 'Leipzig', 'Limerick', 'Lisboa', 'Liverpool',\n",
       "       'Ljubljana', 'London', 'Long Beach', 'Los Angeles', 'Louisville',\n",
       "       'Luxembourg', 'Lyon', 'Madrid', 'Malmö', 'Manaus', 'Manchester',\n",
       "       'Manila', 'Mannheim', 'Marseille', 'Medellín', 'Melbourne',\n",
       "       'Memphis', 'Mendoza', 'Mexico City', 'Miami', 'Milan', 'Milwaukee',\n",
       "       'Minneapolis', 'Monterrey', 'Montreal', 'Moscow', 'Mumbai',\n",
       "       'Munich', 'Murcia', 'Nantes', 'Naples', 'Nashville',\n",
       "       'New York City', 'Newark', 'Newcastle', 'Nice', 'Nizhny Novogorod',\n",
       "       'Novosibirsk', 'Nuremberg', 'Oakland', 'Odessa', 'Oklahoma City',\n",
       "       'Omaha', 'Osaka', 'Oslo', 'Ostrava', 'Ottawa', 'Palermo', 'Paris',\n",
       "       'Perth', 'Philadelphia', 'Phoenix', 'Porto', 'Prague',\n",
       "       'Providence', 'Puente Alto', 'Puerto Vallarta', 'Quebec',\n",
       "       'Quezon City', 'Raleigh', 'Regina', 'Reykjavík', 'Richmond',\n",
       "       'Rio de Janeiro', 'Riyadh', 'Rochester', 'Rome', 'Rosario',\n",
       "       'Roswell', 'Rotterdam', 'Sacramento', 'Saitama', 'Salvador',\n",
       "       'San Antonio', 'San Diego', 'San Francisco', 'San Jose',\n",
       "       'San José', 'Santiago', 'Sapporo', 'Seattle', 'Seoul', 'Seville',\n",
       "       'Shanghai', 'Shenzhen', 'Shizuoka', 'Singapore', 'Springfield',\n",
       "       'St Petersburg', 'Stockholm', 'Stuttgart', 'Surabaya', 'Suzhou',\n",
       "       'Sydney', 'São Paulo', 'Taipei', 'Tallahassee', 'Tampa', 'Tampere',\n",
       "       'Tel Aviv', 'The Hague', 'Thessaloniki', 'Tianjin', 'Tijuana',\n",
       "       'Tokyo', 'Toluca', 'Toronto', 'Tucson', 'Tulsa', 'Turin',\n",
       "       'Uppsala', 'Valencia', 'Vancouver', 'Vantaa', 'Venice', 'Victoria',\n",
       "       'Vienna', 'Virginia Beach', 'Warsaw', 'Wellington', 'Wilmington',\n",
       "       'Winnipeg', 'Woking', 'Wollongong', 'Yekaterinburg', 'Yonkers',\n",
       "       'Zagreb', 'Zaragoza'], dtype=object)"
      ]
     },
     "execution_count": 19,
     "metadata": {},
     "output_type": "execute_result"
    }
   ],
   "source": [
    "df['City'].sort_values(ascending=True).unique()"
   ]
  },
  {
   "cell_type": "code",
   "execution_count": 20,
   "metadata": {},
   "outputs": [
    {
     "data": {
      "text/plain": [
       "array(['AMER', 'APJ', 'EMEA'], dtype=object)"
      ]
     },
     "execution_count": 20,
     "metadata": {},
     "output_type": "execute_result"
    }
   ],
   "source": [
    "df['Region'].sort_values(ascending=True).unique()"
   ]
  },
  {
   "cell_type": "code",
   "execution_count": 21,
   "metadata": {},
   "outputs": [
    {
     "data": {
      "text/plain": [
       "array(['ANZ', 'APAC', 'EU', 'EU-EAST', 'EU-WEST', 'IND', 'JAPN', 'LATAM',\n",
       "       'MEA', 'NAMER', 'NOR', 'UKIR'], dtype=object)"
      ]
     },
     "execution_count": 21,
     "metadata": {},
     "output_type": "execute_result"
    }
   ],
   "source": [
    "df['Subregion'].sort_values(ascending=True).unique()"
   ]
  },
  {
   "cell_type": "code",
   "execution_count": 22,
   "metadata": {},
   "outputs": [
    {
     "data": {
      "text/plain": [
       "array(['Communications', 'Consumer Products', 'Energy', 'Finance',\n",
       "       'Healthcare', 'Manufacturing', 'Misc', 'Retail', 'Tech',\n",
       "       'Transportation'], dtype=object)"
      ]
     },
     "execution_count": 22,
     "metadata": {},
     "output_type": "execute_result"
    }
   ],
   "source": [
    "df['Industry'].sort_values(ascending=True).unique()"
   ]
  },
  {
   "cell_type": "code",
   "execution_count": 23,
   "metadata": {},
   "outputs": [
    {
     "data": {
      "text/plain": [
       "array(['Enterprise', 'SMB', 'Strategic'], dtype=object)"
      ]
     },
     "execution_count": 23,
     "metadata": {},
     "output_type": "execute_result"
    }
   ],
   "source": [
    "df['Segment'].sort_values(ascending=True).unique()"
   ]
  },
  {
   "cell_type": "code",
   "execution_count": 24,
   "metadata": {},
   "outputs": [
    {
     "data": {
      "text/plain": [
       "array(['Alchemy', 'Big Ol Database', 'ChatBot Plugin', 'ContactMatcher',\n",
       "       'Data Smasher', 'FinanceHub', 'Marketing Suite',\n",
       "       'Marketing Suite - Gold', 'OneView', 'SaaS Connector Pack',\n",
       "       'SaaS Connector Pack - Gold', 'Site Analytics', 'Storage',\n",
       "       'Support'], dtype=object)"
      ]
     },
     "execution_count": 24,
     "metadata": {},
     "output_type": "execute_result"
    }
   ],
   "source": [
    "df['Product'].sort_values(ascending=True).unique()"
   ]
  },
  {
   "cell_type": "markdown",
   "metadata": {},
   "source": [
    "# Pembersihan Data (Data cleaning)"
   ]
  },
  {
   "cell_type": "markdown",
   "metadata": {},
   "source": [
    "## Perubahan data (*Data transformation*)\n",
    "Dikarenakan tipe data *Order Date* adalah object, kita merubah data tersebut menjadi datetime agar nanti bisa melakukan analisis berdasarkan *Orde Date*"
   ]
  },
  {
   "cell_type": "code",
   "execution_count": 25,
   "metadata": {},
   "outputs": [],
   "source": [
    "#Menyimpan data original dengan menggunakan .copy()\n",
    "df_tf= df.copy()"
   ]
  },
  {
   "cell_type": "code",
   "execution_count": 26,
   "metadata": {},
   "outputs": [],
   "source": [
    "df_tf['Order Date'] = pd.to_datetime(df_tf['Order Date'])"
   ]
  },
  {
   "cell_type": "code",
   "execution_count": 27,
   "metadata": {},
   "outputs": [
    {
     "name": "stdout",
     "output_type": "stream",
     "text": [
      "<class 'pandas.core.series.Series'>\n",
      "RangeIndex: 9994 entries, 0 to 9993\n",
      "Series name: Order Date\n",
      "Non-Null Count  Dtype         \n",
      "--------------  -----         \n",
      "9994 non-null   datetime64[ns]\n",
      "dtypes: datetime64[ns](1)\n",
      "memory usage: 78.2 KB\n"
     ]
    }
   ],
   "source": [
    "df_tf['Order Date'].info()"
   ]
  },
  {
   "cell_type": "markdown",
   "metadata": {},
   "source": [
    "## Kesimpulan *data cleaning*\n",
    "\n",
    "1. Tidak ada duplicates yang merupakan kesalahan data atau diluar logika bisnis. \n",
    "2. Tidak ada data *null* dalam dataset\n",
    "3. Data kategorikal tidak ada ketidakkonsistenan \n",
    "4. Hanya kolom *Order Date* yang perlu perubahan tipe data"
   ]
  },
  {
   "cell_type": "markdown",
   "metadata": {},
   "source": [
    "# Data Analysis"
   ]
  },
  {
   "cell_type": "code",
   "execution_count": 28,
   "metadata": {},
   "outputs": [
    {
     "data": {
      "text/html": [
       "<div>\n",
       "<style scoped>\n",
       "    .dataframe tbody tr th:only-of-type {\n",
       "        vertical-align: middle;\n",
       "    }\n",
       "\n",
       "    .dataframe tbody tr th {\n",
       "        vertical-align: top;\n",
       "    }\n",
       "\n",
       "    .dataframe thead th {\n",
       "        text-align: right;\n",
       "    }\n",
       "</style>\n",
       "<table border=\"1\" class=\"dataframe\">\n",
       "  <thead>\n",
       "    <tr style=\"text-align: right;\">\n",
       "      <th></th>\n",
       "      <th>Row ID</th>\n",
       "      <th>Order ID</th>\n",
       "      <th>Order Date</th>\n",
       "      <th>Date Key</th>\n",
       "      <th>Contact Name</th>\n",
       "      <th>Country</th>\n",
       "      <th>City</th>\n",
       "      <th>Region</th>\n",
       "      <th>Subregion</th>\n",
       "      <th>Customer</th>\n",
       "      <th>Customer ID</th>\n",
       "      <th>Industry</th>\n",
       "      <th>Segment</th>\n",
       "      <th>Product</th>\n",
       "      <th>License</th>\n",
       "      <th>Sales</th>\n",
       "      <th>Quantity</th>\n",
       "      <th>Discount</th>\n",
       "      <th>Profit</th>\n",
       "    </tr>\n",
       "  </thead>\n",
       "  <tbody>\n",
       "    <tr>\n",
       "      <th>0</th>\n",
       "      <td>1</td>\n",
       "      <td>EMEA-2022-152156</td>\n",
       "      <td>2022-11-09</td>\n",
       "      <td>20221109</td>\n",
       "      <td>Nathan Bell</td>\n",
       "      <td>Ireland</td>\n",
       "      <td>Dublin</td>\n",
       "      <td>EMEA</td>\n",
       "      <td>UKIR</td>\n",
       "      <td>Chevron</td>\n",
       "      <td>1017</td>\n",
       "      <td>Energy</td>\n",
       "      <td>SMB</td>\n",
       "      <td>Marketing Suite</td>\n",
       "      <td>16GRM07R1K</td>\n",
       "      <td>261.9600</td>\n",
       "      <td>2</td>\n",
       "      <td>0.00</td>\n",
       "      <td>41.9136</td>\n",
       "    </tr>\n",
       "    <tr>\n",
       "      <th>1</th>\n",
       "      <td>2</td>\n",
       "      <td>EMEA-2022-152156</td>\n",
       "      <td>2022-11-09</td>\n",
       "      <td>20221109</td>\n",
       "      <td>Nathan Bell</td>\n",
       "      <td>Ireland</td>\n",
       "      <td>Dublin</td>\n",
       "      <td>EMEA</td>\n",
       "      <td>UKIR</td>\n",
       "      <td>Chevron</td>\n",
       "      <td>1017</td>\n",
       "      <td>Energy</td>\n",
       "      <td>SMB</td>\n",
       "      <td>FinanceHub</td>\n",
       "      <td>QLIW57KZUV</td>\n",
       "      <td>731.9400</td>\n",
       "      <td>3</td>\n",
       "      <td>0.00</td>\n",
       "      <td>219.5820</td>\n",
       "    </tr>\n",
       "    <tr>\n",
       "      <th>2</th>\n",
       "      <td>3</td>\n",
       "      <td>AMER-2022-138688</td>\n",
       "      <td>2022-06-13</td>\n",
       "      <td>20220613</td>\n",
       "      <td>Deirdre Bailey</td>\n",
       "      <td>United States</td>\n",
       "      <td>New York City</td>\n",
       "      <td>AMER</td>\n",
       "      <td>NAMER</td>\n",
       "      <td>Phillips 66</td>\n",
       "      <td>1056</td>\n",
       "      <td>Energy</td>\n",
       "      <td>Strategic</td>\n",
       "      <td>FinanceHub</td>\n",
       "      <td>JI6BVL70HQ</td>\n",
       "      <td>14.6200</td>\n",
       "      <td>2</td>\n",
       "      <td>0.00</td>\n",
       "      <td>6.8714</td>\n",
       "    </tr>\n",
       "    <tr>\n",
       "      <th>3</th>\n",
       "      <td>4</td>\n",
       "      <td>EMEA-2021-108966</td>\n",
       "      <td>2021-10-11</td>\n",
       "      <td>20211011</td>\n",
       "      <td>Zoe Hodges</td>\n",
       "      <td>Germany</td>\n",
       "      <td>Stuttgart</td>\n",
       "      <td>EMEA</td>\n",
       "      <td>EU-WEST</td>\n",
       "      <td>Royal Dutch Shell</td>\n",
       "      <td>1031</td>\n",
       "      <td>Energy</td>\n",
       "      <td>SMB</td>\n",
       "      <td>ContactMatcher</td>\n",
       "      <td>DE9GJKGD44</td>\n",
       "      <td>957.5775</td>\n",
       "      <td>5</td>\n",
       "      <td>0.45</td>\n",
       "      <td>-383.0310</td>\n",
       "    </tr>\n",
       "    <tr>\n",
       "      <th>4</th>\n",
       "      <td>5</td>\n",
       "      <td>EMEA-2021-108966</td>\n",
       "      <td>2021-10-11</td>\n",
       "      <td>20211011</td>\n",
       "      <td>Zoe Hodges</td>\n",
       "      <td>Germany</td>\n",
       "      <td>Stuttgart</td>\n",
       "      <td>EMEA</td>\n",
       "      <td>EU-WEST</td>\n",
       "      <td>Royal Dutch Shell</td>\n",
       "      <td>1031</td>\n",
       "      <td>Energy</td>\n",
       "      <td>SMB</td>\n",
       "      <td>Marketing Suite - Gold</td>\n",
       "      <td>OIF7NY23WD</td>\n",
       "      <td>22.3680</td>\n",
       "      <td>2</td>\n",
       "      <td>0.20</td>\n",
       "      <td>2.5164</td>\n",
       "    </tr>\n",
       "  </tbody>\n",
       "</table>\n",
       "</div>"
      ],
      "text/plain": [
       "   Row ID          Order ID Order Date  Date Key    Contact Name  \\\n",
       "0       1  EMEA-2022-152156 2022-11-09  20221109     Nathan Bell   \n",
       "1       2  EMEA-2022-152156 2022-11-09  20221109     Nathan Bell   \n",
       "2       3  AMER-2022-138688 2022-06-13  20220613  Deirdre Bailey   \n",
       "3       4  EMEA-2021-108966 2021-10-11  20211011      Zoe Hodges   \n",
       "4       5  EMEA-2021-108966 2021-10-11  20211011      Zoe Hodges   \n",
       "\n",
       "         Country           City Region Subregion           Customer  \\\n",
       "0        Ireland         Dublin   EMEA      UKIR            Chevron   \n",
       "1        Ireland         Dublin   EMEA      UKIR            Chevron   \n",
       "2  United States  New York City   AMER     NAMER        Phillips 66   \n",
       "3        Germany      Stuttgart   EMEA   EU-WEST  Royal Dutch Shell   \n",
       "4        Germany      Stuttgart   EMEA   EU-WEST  Royal Dutch Shell   \n",
       "\n",
       "   Customer ID Industry    Segment                 Product     License  \\\n",
       "0         1017   Energy        SMB         Marketing Suite  16GRM07R1K   \n",
       "1         1017   Energy        SMB              FinanceHub  QLIW57KZUV   \n",
       "2         1056   Energy  Strategic              FinanceHub  JI6BVL70HQ   \n",
       "3         1031   Energy        SMB          ContactMatcher  DE9GJKGD44   \n",
       "4         1031   Energy        SMB  Marketing Suite - Gold  OIF7NY23WD   \n",
       "\n",
       "      Sales  Quantity  Discount    Profit  \n",
       "0  261.9600         2      0.00   41.9136  \n",
       "1  731.9400         3      0.00  219.5820  \n",
       "2   14.6200         2      0.00    6.8714  \n",
       "3  957.5775         5      0.45 -383.0310  \n",
       "4   22.3680         2      0.20    2.5164  "
      ]
     },
     "execution_count": 28,
     "metadata": {},
     "output_type": "execute_result"
    }
   ],
   "source": [
    "df_tf.head()"
   ]
  },
  {
   "cell_type": "markdown",
   "metadata": {},
   "source": [
    "Untuk memulai analisa data, perlu diingat bahwa tujuan analisa bukan untuk mencari produk/negara/pelanggan yang paling menguntungkan. Namun untuk mencari tahu hal-hal terkait kerugian, seperti:\n",
    "1. Jumlah kerugian total.\n",
    "2. Jumlah kerugian berdasarkan negara/produk/pelanggan/segmentasi lainnya.\n",
    "3. Mencari tahu penyebab kerugian.\n",
    "4. Mencari solusi mengurangi kerugian."
   ]
  },
  {
   "cell_type": "markdown",
   "metadata": {},
   "source": [
    "## Jumlah Kerugian total"
   ]
  },
  {
   "cell_type": "code",
   "execution_count": 29,
   "metadata": {},
   "outputs": [
    {
     "data": {
      "text/plain": [
       "-156131.2857"
      ]
     },
     "execution_count": 29,
     "metadata": {},
     "output_type": "execute_result"
    }
   ],
   "source": [
    "df_tf[df_tf['Profit'] < 0]['Profit'].sum()"
   ]
  },
  {
   "cell_type": "markdown",
   "metadata": {},
   "source": [
    "Total kerugian adalah 156131$ (diasumsikan menggunakan dolar karena transaksi internasional)"
   ]
  },
  {
   "cell_type": "markdown",
   "metadata": {},
   "source": [
    "## Jumlah rugi berdasarkan negara"
   ]
  },
  {
   "cell_type": "code",
   "execution_count": 30,
   "metadata": {},
   "outputs": [
    {
     "data": {
      "image/png": "[encoded data removed]",
      "text/plain": [
       "<Figure size 1000x600 with 1 Axes>"
      ]
     },
     "metadata": {},
     "output_type": "display_data"
    }
   ],
   "source": [
    "df_loss = df_tf[df_tf['Profit'] < 0]\n",
    "\n",
    "top_5 = df_loss.groupby('Country').agg({\n",
    "    'Order ID':'count',\n",
    "    'Profit':'sum'\n",
    "}).sort_values(by='Profit', ascending=True).head().reset_index()\n",
    "\n",
    "# Plot\n",
    "plt.figure(figsize=(10, 6))\n",
    "sns.barplot(data=top_5, x='Country', y='Profit', palette='Blues_d')\n",
    "\n",
    "# Add value labels on top of bars\n",
    "for index, row in top_5.iterrows():\n",
    "    plt.text(index, row['Profit'], f\"{row['Profit']:.0f}\", ha='center', va='bottom')\n",
    "\n",
    "plt.title('Top 5 Countries by Loss', fontsize=14)\n",
    "plt.xlabel('Country')\n",
    "plt.ylabel('Total Profit')\n",
    "plt.xticks(rotation=45)\n",
    "plt.tight_layout()\n",
    "plt.show()"
   ]
  },
  {
   "cell_type": "markdown",
   "metadata": {},
   "source": [
    "Jepang merupakan negara dimana kerugian tertinggi terjadi. bahkan jauh jika dibandingkan dengan negara dengan kerugian tertinggi kedua (Mexico). Pertanyaan yang muncul adalah:\n",
    "1. Kenapa kerugian tertinggi terjadi di Jepang?"
   ]
  },
  {
   "cell_type": "markdown",
   "metadata": {},
   "source": [
    "## Top products"
   ]
  },
  {
   "cell_type": "code",
   "execution_count": 31,
   "metadata": {},
   "outputs": [],
   "source": [
    "# Prepare the data\n",
    "top_5_prod = df_loss.groupby('Product').agg({\n",
    "    'Order ID': 'count',\n",
    "    'Profit': 'sum'\n",
    "}).sort_values(by='Profit', ascending=True).head(5).reset_index()\n",
    "\n"
   ]
  },
  {
   "cell_type": "code",
   "execution_count": 32,
   "metadata": {},
   "outputs": [
    {
     "data": {
      "image/png": "[encoded data removed]",
      "text/plain": [
       "<Figure size 1000x600 with 1 Axes>"
      ]
     },
     "metadata": {},
     "output_type": "display_data"
    }
   ],
   "source": [
    "top_5 = df_loss.groupby('Product').agg({\n",
    "    'Order ID':'count',\n",
    "    'Profit':'sum'\n",
    "}).sort_values(by='Profit', ascending=True).head().reset_index()\n",
    "\n",
    "# Plot\n",
    "plt.figure(figsize=(10, 6))\n",
    "sns.barplot(data=top_5, x='Product', y='Profit', palette='Blues_d')\n",
    "\n",
    "# Add value labels on top of bars\n",
    "for index, row in top_5.iterrows():\n",
    "    plt.text(index, row['Profit'], f\"{row['Profit']:.0f}\", ha='center', va='bottom')\n",
    "\n",
    "plt.title('Top 5 Countries by Loss', fontsize=14)\n",
    "plt.xlabel('Product')\n",
    "plt.ylabel('Total Profit')\n",
    "plt.xticks(rotation=45)\n",
    "plt.tight_layout()\n",
    "plt.show()"
   ]
  },
  {
   "cell_type": "markdown",
   "metadata": {},
   "source": [
    "Produk dengan kerugian tertinggi adalah Contactmatcher dengan total kerugian 70923$. ContactMatcher adalah produk yang berhubungan dengan pengalaman pelanggan. Produk ini membantu perusahaan untuk mencari tahu motivasi tertinggi, produk terbaik, bahkan sampai karakteristik agen yang cocok dengan customer tersebut. Sekilas produk ini bagus, namun perlu dipertanyakan apa penyebab utama kerugian ini."
   ]
  },
  {
   "cell_type": "code",
   "execution_count": 33,
   "metadata": {},
   "outputs": [
    {
     "data": {
      "image/png": "[encoded data removed]",
      "text/plain": [
       "<Figure size 1000x600 with 1 Axes>"
      ]
     },
     "metadata": {},
     "output_type": "display_data"
    }
   ],
   "source": [
    "top_5_cust = df_loss.groupby('Customer').agg({\n",
    "    'Profit':'sum'\n",
    "}).sort_values(by='Profit', ascending = True).head().reset_index()\n",
    "top_5_cust\n",
    "# Plot\n",
    "plt.figure(figsize=(10, 6))\n",
    "sns.barplot(data=top_5_cust, x='Customer', y='Profit', palette='Blues_d')\n",
    "\n",
    "# Add value labels on top of bars\n",
    "for index, row in top_5_cust.iterrows():\n",
    "    plt.text(index, row['Profit'], f\"{row['Profit']:.0f}\", ha='center', va='bottom')\n",
    "\n",
    "plt.title('Top 5 Customers by loss', fontsize=14)\n",
    "plt.xlabel('Customer')\n",
    "plt.ylabel('Profit')\n",
    "plt.xticks(rotation=45)\n",
    "plt.tight_layout()\n",
    "plt.show()"
   ]
  },
  {
   "cell_type": "markdown",
   "metadata": {},
   "source": [
    "Catatan: Allstate adalah perusahaan asuransi yang berdiri di Amerika Serikat."
   ]
  },
  {
   "cell_type": "markdown",
   "metadata": {},
   "source": [
    "# Mencari alasan utama kerugian secara umum\n",
    "\n",
    "secara umum, kerugian dapat terjadi jika perusahaan menjual produk dengan harga yang sangat murah. Penjualan produk dengan sangat murah dapat terjadi jika perusahaan tersebut tidak dapat menjual produknya di harga normal sehingga memerlukan diskon atau potongan harga untuk menarik konsumen. Biasanya potongan harga diberikan dengan berbagai alasan seperti untuk pembelian pertama, untuk konsumen yang setia, atau karena tidak laku. Untuk itu kita akan menganalisa dari aspek diskon. Seberapa besar pengaruh diskon terhadap kerugian."
   ]
  },
  {
   "cell_type": "code",
   "execution_count": 34,
   "metadata": {},
   "outputs": [
    {
     "data": {
      "text/html": [
       "<div>\n",
       "<style scoped>\n",
       "    .dataframe tbody tr th:only-of-type {\n",
       "        vertical-align: middle;\n",
       "    }\n",
       "\n",
       "    .dataframe tbody tr th {\n",
       "        vertical-align: top;\n",
       "    }\n",
       "\n",
       "    .dataframe thead th {\n",
       "        text-align: right;\n",
       "    }\n",
       "</style>\n",
       "<table border=\"1\" class=\"dataframe\">\n",
       "  <thead>\n",
       "    <tr style=\"text-align: right;\">\n",
       "      <th></th>\n",
       "      <th>Discount</th>\n",
       "      <th>Profit</th>\n",
       "    </tr>\n",
       "  </thead>\n",
       "  <tbody>\n",
       "    <tr>\n",
       "      <th>7772</th>\n",
       "      <td>0.7</td>\n",
       "      <td>-6599.9780</td>\n",
       "    </tr>\n",
       "    <tr>\n",
       "      <th>683</th>\n",
       "      <td>0.5</td>\n",
       "      <td>-3839.9904</td>\n",
       "    </tr>\n",
       "    <tr>\n",
       "      <th>9774</th>\n",
       "      <td>0.8</td>\n",
       "      <td>-3701.8928</td>\n",
       "    </tr>\n",
       "    <tr>\n",
       "      <th>3011</th>\n",
       "      <td>0.7</td>\n",
       "      <td>-3399.9800</td>\n",
       "    </tr>\n",
       "    <tr>\n",
       "      <th>4991</th>\n",
       "      <td>0.8</td>\n",
       "      <td>-2929.4845</td>\n",
       "    </tr>\n",
       "    <tr>\n",
       "      <th>3151</th>\n",
       "      <td>0.7</td>\n",
       "      <td>-2639.9912</td>\n",
       "    </tr>\n",
       "    <tr>\n",
       "      <th>5310</th>\n",
       "      <td>0.8</td>\n",
       "      <td>-2287.7820</td>\n",
       "    </tr>\n",
       "    <tr>\n",
       "      <th>9639</th>\n",
       "      <td>0.4</td>\n",
       "      <td>-1862.3124</td>\n",
       "    </tr>\n",
       "    <tr>\n",
       "      <th>1199</th>\n",
       "      <td>0.8</td>\n",
       "      <td>-1850.9464</td>\n",
       "    </tr>\n",
       "    <tr>\n",
       "      <th>2697</th>\n",
       "      <td>0.5</td>\n",
       "      <td>-1811.0784</td>\n",
       "    </tr>\n",
       "  </tbody>\n",
       "</table>\n",
       "</div>"
      ],
      "text/plain": [
       "      Discount     Profit\n",
       "7772       0.7 -6599.9780\n",
       "683        0.5 -3839.9904\n",
       "9774       0.8 -3701.8928\n",
       "3011       0.7 -3399.9800\n",
       "4991       0.8 -2929.4845\n",
       "3151       0.7 -2639.9912\n",
       "5310       0.8 -2287.7820\n",
       "9639       0.4 -1862.3124\n",
       "1199       0.8 -1850.9464\n",
       "2697       0.5 -1811.0784"
      ]
     },
     "execution_count": 34,
     "metadata": {},
     "output_type": "execute_result"
    }
   ],
   "source": [
    "df_loss.sort_values(by='Profit').head(10)[['Discount','Profit']]"
   ]
  },
  {
   "cell_type": "code",
   "execution_count": 35,
   "metadata": {},
   "outputs": [
    {
     "data": {
      "text/plain": [
       "0.67"
      ]
     },
     "execution_count": 35,
     "metadata": {},
     "output_type": "execute_result"
    }
   ],
   "source": [
    "top_10_loss = df_loss.sort_values(by='Profit').head(10)[['Discount','Profit']]\n",
    "top_10_loss.Discount.mean()"
   ]
  },
  {
   "cell_type": "markdown",
   "metadata": {},
   "source": [
    "Jika dilihat berdasarkan 10 kerugian terbesar berdasarkan transaksi, dapat dilihat bahwa kebanyakan diskon atau potongan harga diatas 40% dengan rata-rata potongan sebesar 67% untuk 10 kerugian terbesar. Dapat dilihat bahwa ada korelasi antara potongan harga dan kerugian."
   ]
  },
  {
   "cell_type": "code",
   "execution_count": 36,
   "metadata": {},
   "outputs": [
    {
     "data": {
      "text/html": [
       "<div>\n",
       "<style scoped>\n",
       "    .dataframe tbody tr th:only-of-type {\n",
       "        vertical-align: middle;\n",
       "    }\n",
       "\n",
       "    .dataframe tbody tr th {\n",
       "        vertical-align: top;\n",
       "    }\n",
       "\n",
       "    .dataframe thead th {\n",
       "        text-align: right;\n",
       "    }\n",
       "</style>\n",
       "<table border=\"1\" class=\"dataframe\">\n",
       "  <thead>\n",
       "    <tr style=\"text-align: right;\">\n",
       "      <th></th>\n",
       "      <th>Sales</th>\n",
       "      <th>Discount</th>\n",
       "      <th>Quantity</th>\n",
       "      <th>Profit</th>\n",
       "    </tr>\n",
       "  </thead>\n",
       "  <tbody>\n",
       "    <tr>\n",
       "      <th>Profit</th>\n",
       "      <td>-0.544418</td>\n",
       "      <td>-0.081273</td>\n",
       "      <td>-0.171625</td>\n",
       "      <td>1.0</td>\n",
       "    </tr>\n",
       "  </tbody>\n",
       "</table>\n",
       "</div>"
      ],
      "text/plain": [
       "           Sales  Discount  Quantity  Profit\n",
       "Profit -0.544418 -0.081273 -0.171625     1.0"
      ]
     },
     "execution_count": 36,
     "metadata": {},
     "output_type": "execute_result"
    }
   ],
   "source": [
    "df_loss[['Sales','Discount','Quantity','Profit']].corr()[3:]"
   ]
  },
  {
   "cell_type": "markdown",
   "metadata": {},
   "source": [
    "mari kita gunakan scatterplot untuk melihat korelasi dan persebaran data"
   ]
  },
  {
   "cell_type": "code",
   "execution_count": 37,
   "metadata": {},
   "outputs": [
    {
     "data": {
      "image/png": "[encoded data removed]",
      "text/plain": [
       "<Figure size 640x480 with 1 Axes>"
      ]
     },
     "metadata": {},
     "output_type": "display_data"
    }
   ],
   "source": [
    "import seaborn as sns\n",
    "import matplotlib.pyplot as plt\n",
    "\n",
    "# Example: Scatter plot between sales and profit\n",
    "sns.scatterplot(data=df_loss, x='Profit', y='Discount')\n",
    "plt.title('Profit vs Discount')\n",
    "plt.xlabel('Profit')\n",
    "plt.ylabel('Discount')\n",
    "plt.show()"
   ]
  },
  {
   "cell_type": "code",
   "execution_count": 38,
   "metadata": {},
   "outputs": [
    {
     "data": {
      "image/png": "[encoded data removed]",
      "text/plain": [
       "<Figure size 1000x600 with 1 Axes>"
      ]
     },
     "metadata": {},
     "output_type": "display_data"
    }
   ],
   "source": [
    "import matplotlib.pyplot as plt\n",
    "\n",
    "plt.figure(figsize=(10, 6))\n",
    "\n",
    "# Scatter plot for each X variable\n",
    "plt.scatter(df['Profit'], df['Sales'], label='Sales', alpha=0.7)\n",
    "plt.scatter(df['Profit'], df['Discount'], label='Discount', alpha=0.7)\n",
    "plt.scatter(df['Profit'], df['Quantity'], label='Quantity', alpha=0.7)\n",
    "\n",
    "plt.xlabel('Profit')\n",
    "plt.ylabel('Sales,Discount,Quantity')\n",
    "plt.title('Sales,Discount,Quantity vs Profit')\n",
    "plt.legend()\n",
    "plt.show()"
   ]
  },
  {
   "cell_type": "markdown",
   "metadata": {},
   "source": [
    "Jika dilihat berdasarkan korelasi, dari korelasi negatif terbesar:\n",
    "1. Sales\n",
    "2. Quantity\n",
    "3. Discount\n",
    "\n",
    "Secara data memang benar kalau sales alias harga jual pasti berpengaruh terhadap kerugian. juga kuantitas, dikarenakan semakin banyak produk yang merugikan terjual, pasti semakin besar kerugiannya. Potongan harga atau diskon justru tidak begitu besar dari segi korelasi negatif terhadap profit. Untuk itu, kita perlu mencari tahu terlebih dahulu berapa harga sebelum diskon dan seberapa besar berkurangnya kerugian jika diskon dihilangkan"
   ]
  },
  {
   "cell_type": "code",
   "execution_count": 39,
   "metadata": {},
   "outputs": [
    {
     "name": "stderr",
     "output_type": "stream",
     "text": [
      "C:\\Users\\ASUS\\AppData\\Local\\Temp\\ipykernel_10368\\3787226595.py:1: SettingWithCopyWarning: \n",
      "A value is trying to be set on a copy of a slice from a DataFrame.\n",
      "Try using .loc[row_indexer,col_indexer] = value instead\n",
      "\n",
      "See the caveats in the documentation: https://pandas.pydata.org/pandas-docs/stable/user_guide/indexing.html#returning-a-view-versus-a-copy\n",
      "  df_loss['sales_before_discount'] = df_loss['Sales'] / (1 - df_loss['Discount'])\n",
      "C:\\Users\\ASUS\\AppData\\Local\\Temp\\ipykernel_10368\\3787226595.py:2: SettingWithCopyWarning: \n",
      "A value is trying to be set on a copy of a slice from a DataFrame.\n",
      "Try using .loc[row_indexer,col_indexer] = value instead\n",
      "\n",
      "See the caveats in the documentation: https://pandas.pydata.org/pandas-docs/stable/user_guide/indexing.html#returning-a-view-versus-a-copy\n",
      "  df_loss['Profit_before_discount'] = df_loss['Profit'] + (df_loss['sales_before_discount'] - df_loss['Sales'])\n"
     ]
    },
    {
     "data": {
      "text/html": [
       "<div>\n",
       "<style scoped>\n",
       "    .dataframe tbody tr th:only-of-type {\n",
       "        vertical-align: middle;\n",
       "    }\n",
       "\n",
       "    .dataframe tbody tr th {\n",
       "        vertical-align: top;\n",
       "    }\n",
       "\n",
       "    .dataframe thead th {\n",
       "        text-align: right;\n",
       "    }\n",
       "</style>\n",
       "<table border=\"1\" class=\"dataframe\">\n",
       "  <thead>\n",
       "    <tr style=\"text-align: right;\">\n",
       "      <th></th>\n",
       "      <th>Row ID</th>\n",
       "      <th>Order ID</th>\n",
       "      <th>Order Date</th>\n",
       "      <th>Date Key</th>\n",
       "      <th>Contact Name</th>\n",
       "      <th>Country</th>\n",
       "      <th>City</th>\n",
       "      <th>Region</th>\n",
       "      <th>Subregion</th>\n",
       "      <th>Customer</th>\n",
       "      <th>...</th>\n",
       "      <th>Industry</th>\n",
       "      <th>Segment</th>\n",
       "      <th>Product</th>\n",
       "      <th>License</th>\n",
       "      <th>Sales</th>\n",
       "      <th>Quantity</th>\n",
       "      <th>Discount</th>\n",
       "      <th>Profit</th>\n",
       "      <th>sales_before_discount</th>\n",
       "      <th>Profit_before_discount</th>\n",
       "    </tr>\n",
       "  </thead>\n",
       "  <tbody>\n",
       "    <tr>\n",
       "      <th>3</th>\n",
       "      <td>4</td>\n",
       "      <td>EMEA-2021-108966</td>\n",
       "      <td>2021-10-11</td>\n",
       "      <td>20211011</td>\n",
       "      <td>Zoe Hodges</td>\n",
       "      <td>Germany</td>\n",
       "      <td>Stuttgart</td>\n",
       "      <td>EMEA</td>\n",
       "      <td>EU-WEST</td>\n",
       "      <td>Royal Dutch Shell</td>\n",
       "      <td>...</td>\n",
       "      <td>Energy</td>\n",
       "      <td>SMB</td>\n",
       "      <td>ContactMatcher</td>\n",
       "      <td>DE9GJKGD44</td>\n",
       "      <td>957.5775</td>\n",
       "      <td>5</td>\n",
       "      <td>0.45</td>\n",
       "      <td>-383.0310</td>\n",
       "      <td>1741.05</td>\n",
       "      <td>400.4415</td>\n",
       "    </tr>\n",
       "    <tr>\n",
       "      <th>14</th>\n",
       "      <td>15</td>\n",
       "      <td>APJ-2021-118983</td>\n",
       "      <td>2021-11-22</td>\n",
       "      <td>20211122</td>\n",
       "      <td>Emily Morrison</td>\n",
       "      <td>Japan</td>\n",
       "      <td>Saitama</td>\n",
       "      <td>APJ</td>\n",
       "      <td>JAPN</td>\n",
       "      <td>Pfizer</td>\n",
       "      <td>...</td>\n",
       "      <td>Healthcare</td>\n",
       "      <td>Enterprise</td>\n",
       "      <td>OneView</td>\n",
       "      <td>D8FGC56NNX</td>\n",
       "      <td>68.8100</td>\n",
       "      <td>5</td>\n",
       "      <td>0.80</td>\n",
       "      <td>-123.8580</td>\n",
       "      <td>344.05</td>\n",
       "      <td>151.3820</td>\n",
       "    </tr>\n",
       "    <tr>\n",
       "      <th>15</th>\n",
       "      <td>16</td>\n",
       "      <td>APJ-2021-118983</td>\n",
       "      <td>2021-11-22</td>\n",
       "      <td>20211122</td>\n",
       "      <td>Emily Morrison</td>\n",
       "      <td>Japan</td>\n",
       "      <td>Saitama</td>\n",
       "      <td>APJ</td>\n",
       "      <td>JAPN</td>\n",
       "      <td>Pfizer</td>\n",
       "      <td>...</td>\n",
       "      <td>Healthcare</td>\n",
       "      <td>Enterprise</td>\n",
       "      <td>ContactMatcher</td>\n",
       "      <td>NRKT5R1A1G</td>\n",
       "      <td>2.5440</td>\n",
       "      <td>3</td>\n",
       "      <td>0.80</td>\n",
       "      <td>-3.8160</td>\n",
       "      <td>12.72</td>\n",
       "      <td>6.3600</td>\n",
       "    </tr>\n",
       "    <tr>\n",
       "      <th>23</th>\n",
       "      <td>24</td>\n",
       "      <td>EMEA-2023-156909</td>\n",
       "      <td>2023-07-17</td>\n",
       "      <td>20230717</td>\n",
       "      <td>Luke Bower</td>\n",
       "      <td>France</td>\n",
       "      <td>Paris</td>\n",
       "      <td>EMEA</td>\n",
       "      <td>EU-WEST</td>\n",
       "      <td>Costco Wholesale</td>\n",
       "      <td>...</td>\n",
       "      <td>Retail</td>\n",
       "      <td>SMB</td>\n",
       "      <td>FinanceHub</td>\n",
       "      <td>AJOASBK55N</td>\n",
       "      <td>71.3720</td>\n",
       "      <td>2</td>\n",
       "      <td>0.30</td>\n",
       "      <td>-1.0196</td>\n",
       "      <td>101.96</td>\n",
       "      <td>29.5684</td>\n",
       "    </tr>\n",
       "    <tr>\n",
       "      <th>27</th>\n",
       "      <td>28</td>\n",
       "      <td>EMEA-2021-150630</td>\n",
       "      <td>2021-09-17</td>\n",
       "      <td>20210917</td>\n",
       "      <td>Neil Gill</td>\n",
       "      <td>France</td>\n",
       "      <td>Paris</td>\n",
       "      <td>EMEA</td>\n",
       "      <td>EU-WEST</td>\n",
       "      <td>Intel</td>\n",
       "      <td>...</td>\n",
       "      <td>Tech</td>\n",
       "      <td>SMB</td>\n",
       "      <td>Marketing Suite</td>\n",
       "      <td>F8G07TWQ17</td>\n",
       "      <td>3083.4300</td>\n",
       "      <td>7</td>\n",
       "      <td>0.50</td>\n",
       "      <td>-1665.0522</td>\n",
       "      <td>6166.86</td>\n",
       "      <td>1418.3778</td>\n",
       "    </tr>\n",
       "  </tbody>\n",
       "</table>\n",
       "<p>5 rows × 21 columns</p>\n",
       "</div>"
      ],
      "text/plain": [
       "    Row ID          Order ID Order Date  Date Key    Contact Name  Country  \\\n",
       "3        4  EMEA-2021-108966 2021-10-11  20211011      Zoe Hodges  Germany   \n",
       "14      15   APJ-2021-118983 2021-11-22  20211122  Emily Morrison    Japan   \n",
       "15      16   APJ-2021-118983 2021-11-22  20211122  Emily Morrison    Japan   \n",
       "23      24  EMEA-2023-156909 2023-07-17  20230717      Luke Bower   France   \n",
       "27      28  EMEA-2021-150630 2021-09-17  20210917       Neil Gill   France   \n",
       "\n",
       "         City Region Subregion           Customer  ...    Industry  \\\n",
       "3   Stuttgart   EMEA   EU-WEST  Royal Dutch Shell  ...      Energy   \n",
       "14    Saitama    APJ      JAPN             Pfizer  ...  Healthcare   \n",
       "15    Saitama    APJ      JAPN             Pfizer  ...  Healthcare   \n",
       "23      Paris   EMEA   EU-WEST   Costco Wholesale  ...      Retail   \n",
       "27      Paris   EMEA   EU-WEST              Intel  ...        Tech   \n",
       "\n",
       "       Segment          Product     License      Sales  Quantity  Discount  \\\n",
       "3          SMB   ContactMatcher  DE9GJKGD44   957.5775         5      0.45   \n",
       "14  Enterprise          OneView  D8FGC56NNX    68.8100         5      0.80   \n",
       "15  Enterprise   ContactMatcher  NRKT5R1A1G     2.5440         3      0.80   \n",
       "23         SMB       FinanceHub  AJOASBK55N    71.3720         2      0.30   \n",
       "27         SMB  Marketing Suite  F8G07TWQ17  3083.4300         7      0.50   \n",
       "\n",
       "       Profit  sales_before_discount  Profit_before_discount  \n",
       "3   -383.0310                1741.05                400.4415  \n",
       "14  -123.8580                 344.05                151.3820  \n",
       "15    -3.8160                  12.72                  6.3600  \n",
       "23    -1.0196                 101.96                 29.5684  \n",
       "27 -1665.0522                6166.86               1418.3778  \n",
       "\n",
       "[5 rows x 21 columns]"
      ]
     },
     "execution_count": 39,
     "metadata": {},
     "output_type": "execute_result"
    }
   ],
   "source": [
    "df_loss['sales_before_discount'] = df_loss['Sales'] / (1 - df_loss['Discount'])\n",
    "df_loss['Profit_before_discount'] = df_loss['Profit'] + (df_loss['sales_before_discount'] - df_loss['Sales'])\n",
    "df_loss.head()"
   ]
  },
  {
   "cell_type": "code",
   "execution_count": 40,
   "metadata": {},
   "outputs": [
    {
     "name": "stdout",
     "output_type": "stream",
     "text": [
      "Total kerugian asli dengan diskon: -156131.2857\n",
      "Total kerugian tanpa diskon: 223587.1795\n"
     ]
    }
   ],
   "source": [
    "print(f'Total kerugian asli dengan diskon: {df_loss.Profit.sum()}')\n",
    "print(f'Total kerugian tanpa diskon: {df_loss.Profit_before_discount.sum()}')"
   ]
  },
  {
   "cell_type": "markdown",
   "metadata": {},
   "source": [
    "Walaupun secara korelasi kecil pnegaruh diskon terhadap kerugian, kenyataannya dengan menghilangkan diskon, kerugian sebesar 156131.2857$ justru dapat menjadi keuntungan sebesar 223587.1795$. Jadi dapat disimpulkan bahwa diskon menyebabkan kerugian sebesar 379718.4652$.\n",
    "\n",
    "Namun, pertanyaanya adalah berapa maksimum dari potongan harga agar tetap menggiurkan bagi konsumen namun tetap memberikan keuntungan walau sedikit atau bahkan tidak memberikan keuntungan sama sekali tetapi tidak juga merugikan?"
   ]
  },
  {
   "cell_type": "code",
   "execution_count": 41,
   "metadata": {},
   "outputs": [
    {
     "name": "stderr",
     "output_type": "stream",
     "text": [
      "C:\\Users\\ASUS\\AppData\\Local\\Temp\\ipykernel_10368\\805166185.py:1: SettingWithCopyWarning: \n",
      "A value is trying to be set on a copy of a slice from a DataFrame.\n",
      "Try using .loc[row_indexer,col_indexer] = value instead\n",
      "\n",
      "See the caveats in the documentation: https://pandas.pydata.org/pandas-docs/stable/user_guide/indexing.html#returning-a-view-versus-a-copy\n",
      "  df_loss['best_discount'] = df_loss['Discount'] - 0.185\n",
      "C:\\Users\\ASUS\\AppData\\Local\\Temp\\ipykernel_10368\\805166185.py:2: SettingWithCopyWarning: \n",
      "A value is trying to be set on a copy of a slice from a DataFrame.\n",
      "Try using .loc[row_indexer,col_indexer] = value instead\n",
      "\n",
      "See the caveats in the documentation: https://pandas.pydata.org/pandas-docs/stable/user_guide/indexing.html#returning-a-view-versus-a-copy\n",
      "  df_loss['sales_after_best_discount'] = df_loss['sales_before_discount'] - df_loss['sales_before_discount'] * df_loss['best_discount']\n",
      "C:\\Users\\ASUS\\AppData\\Local\\Temp\\ipykernel_10368\\805166185.py:3: SettingWithCopyWarning: \n",
      "A value is trying to be set on a copy of a slice from a DataFrame.\n",
      "Try using .loc[row_indexer,col_indexer] = value instead\n",
      "\n",
      "See the caveats in the documentation: https://pandas.pydata.org/pandas-docs/stable/user_guide/indexing.html#returning-a-view-versus-a-copy\n",
      "  df_loss['Profit_after_best_discount'] = df_loss['Profit'] + (df_loss['sales_after_best_discount'] - df_loss['Sales'])\n"
     ]
    },
    {
     "data": {
      "text/html": [
       "<div>\n",
       "<style scoped>\n",
       "    .dataframe tbody tr th:only-of-type {\n",
       "        vertical-align: middle;\n",
       "    }\n",
       "\n",
       "    .dataframe tbody tr th {\n",
       "        vertical-align: top;\n",
       "    }\n",
       "\n",
       "    .dataframe thead th {\n",
       "        text-align: right;\n",
       "    }\n",
       "</style>\n",
       "<table border=\"1\" class=\"dataframe\">\n",
       "  <thead>\n",
       "    <tr style=\"text-align: right;\">\n",
       "      <th></th>\n",
       "      <th>Sales</th>\n",
       "      <th>Quantity</th>\n",
       "      <th>Discount</th>\n",
       "      <th>Profit</th>\n",
       "      <th>sales_before_discount</th>\n",
       "      <th>Profit_before_discount</th>\n",
       "      <th>best_discount</th>\n",
       "      <th>sales_after_best_discount</th>\n",
       "      <th>Profit_after_best_discount</th>\n",
       "    </tr>\n",
       "  </thead>\n",
       "  <tbody>\n",
       "    <tr>\n",
       "      <th>3</th>\n",
       "      <td>957.5775</td>\n",
       "      <td>5</td>\n",
       "      <td>0.45</td>\n",
       "      <td>-383.0310</td>\n",
       "      <td>1741.05</td>\n",
       "      <td>400.4415</td>\n",
       "      <td>0.265</td>\n",
       "      <td>1279.67175</td>\n",
       "      <td>-60.93675</td>\n",
       "    </tr>\n",
       "    <tr>\n",
       "      <th>14</th>\n",
       "      <td>68.8100</td>\n",
       "      <td>5</td>\n",
       "      <td>0.80</td>\n",
       "      <td>-123.8580</td>\n",
       "      <td>344.05</td>\n",
       "      <td>151.3820</td>\n",
       "      <td>0.615</td>\n",
       "      <td>132.45925</td>\n",
       "      <td>-60.20875</td>\n",
       "    </tr>\n",
       "    <tr>\n",
       "      <th>15</th>\n",
       "      <td>2.5440</td>\n",
       "      <td>3</td>\n",
       "      <td>0.80</td>\n",
       "      <td>-3.8160</td>\n",
       "      <td>12.72</td>\n",
       "      <td>6.3600</td>\n",
       "      <td>0.615</td>\n",
       "      <td>4.89720</td>\n",
       "      <td>-1.46280</td>\n",
       "    </tr>\n",
       "    <tr>\n",
       "      <th>23</th>\n",
       "      <td>71.3720</td>\n",
       "      <td>2</td>\n",
       "      <td>0.30</td>\n",
       "      <td>-1.0196</td>\n",
       "      <td>101.96</td>\n",
       "      <td>29.5684</td>\n",
       "      <td>0.115</td>\n",
       "      <td>90.23460</td>\n",
       "      <td>17.84300</td>\n",
       "    </tr>\n",
       "    <tr>\n",
       "      <th>27</th>\n",
       "      <td>3083.4300</td>\n",
       "      <td>7</td>\n",
       "      <td>0.50</td>\n",
       "      <td>-1665.0522</td>\n",
       "      <td>6166.86</td>\n",
       "      <td>1418.3778</td>\n",
       "      <td>0.315</td>\n",
       "      <td>4224.29910</td>\n",
       "      <td>-524.18310</td>\n",
       "    </tr>\n",
       "  </tbody>\n",
       "</table>\n",
       "</div>"
      ],
      "text/plain": [
       "        Sales  Quantity  Discount     Profit  sales_before_discount  \\\n",
       "3    957.5775         5      0.45  -383.0310                1741.05   \n",
       "14    68.8100         5      0.80  -123.8580                 344.05   \n",
       "15     2.5440         3      0.80    -3.8160                  12.72   \n",
       "23    71.3720         2      0.30    -1.0196                 101.96   \n",
       "27  3083.4300         7      0.50 -1665.0522                6166.86   \n",
       "\n",
       "    Profit_before_discount  best_discount  sales_after_best_discount  \\\n",
       "3                 400.4415          0.265                 1279.67175   \n",
       "14                151.3820          0.615                  132.45925   \n",
       "15                  6.3600          0.615                    4.89720   \n",
       "23                 29.5684          0.115                   90.23460   \n",
       "27               1418.3778          0.315                 4224.29910   \n",
       "\n",
       "    Profit_after_best_discount  \n",
       "3                    -60.93675  \n",
       "14                   -60.20875  \n",
       "15                    -1.46280  \n",
       "23                    17.84300  \n",
       "27                  -524.18310  "
      ]
     },
     "execution_count": 41,
     "metadata": {},
     "output_type": "execute_result"
    }
   ],
   "source": [
    "df_loss['best_discount'] = df_loss['Discount'] - 0.185\n",
    "df_loss['sales_after_best_discount'] = df_loss['sales_before_discount'] - df_loss['sales_before_discount'] * df_loss['best_discount']\n",
    "df_loss['Profit_after_best_discount'] = df_loss['Profit'] + (df_loss['sales_after_best_discount'] - df_loss['Sales'])\n",
    "df_loss[['Sales','Quantity','Discount','Profit','sales_before_discount','Profit_before_discount','best_discount','sales_after_best_discount','Profit_after_best_discount']].head()"
   ]
  },
  {
   "cell_type": "code",
   "execution_count": 42,
   "metadata": {},
   "outputs": [
    {
     "name": "stdout",
     "output_type": "stream",
     "text": [
      "Total kerugian asli dengan diskon: -156131.2857\n",
      "Total kerugian setelah diskon terbaik: 827.4540000000115\n"
     ]
    }
   ],
   "source": [
    "print(f'Total kerugian asli dengan diskon: {df_loss.Profit.sum()}')\n",
    "print(f'Total kerugian setelah diskon terbaik: {df_loss.Profit_after_best_discount.sum()}')"
   ]
  },
  {
   "cell_type": "markdown",
   "metadata": {},
   "source": [
    "Kolom *best_discount* menunjukkan angka potongan harga terbaik yang masih memberikan keuntungan namun dapat memberikan insentif bagi konsumen untuk membeli produk perusahaan. "
   ]
  },
  {
   "cell_type": "markdown",
   "metadata": {},
   "source": [
    "# Rekomendasi\n",
    "\n",
    "1. Jika memungkinkan, kurangi diskon sehingga angka kerugian dapat berkurang namun tetap cukup besar untuk menarik konsumen. \n",
    "2. Memberikan diskon untuk pelanggan yang telah dipilih berdasarkan kesetiaan, jumlah transaksi, atau kuantitas. Sehingga pelanggan mendapat insentif besar untuk selalu membeli produk perusahaan.\n",
    "3. Untuk menggantikan pengecilan terhadap diskon, dapat diberikan *reward* atau ganjaran untuk mereka yang telah menjadi pelanggan setia. Namun harus dipastikan ganjaran ini tidak berpengaruh besar sehingga justru memberikan kerugian jika dikurangkan dari *Profit*"
   ]
  },
  {
   "cell_type": "markdown",
   "metadata": {},
   "source": [
    "Menyimpan dataset df_loss sebagai csv "
   ]
  },
  {
   "cell_type": "code",
   "execution_count": 43,
   "metadata": {},
   "outputs": [],
   "source": [
    "df_loss.to_csv('AWS_loss.csv')"
   ]
  },
  {
   "cell_type": "code",
   "execution_count": 47,
   "metadata": {},
   "outputs": [
    {
     "data": {
      "text/html": [
       "<div>\n",
       "<style scoped>\n",
       "    .dataframe tbody tr th:only-of-type {\n",
       "        vertical-align: middle;\n",
       "    }\n",
       "\n",
       "    .dataframe tbody tr th {\n",
       "        vertical-align: top;\n",
       "    }\n",
       "\n",
       "    .dataframe thead th {\n",
       "        text-align: right;\n",
       "    }\n",
       "</style>\n",
       "<table border=\"1\" class=\"dataframe\">\n",
       "  <thead>\n",
       "    <tr style=\"text-align: right;\">\n",
       "      <th></th>\n",
       "      <th>Row ID</th>\n",
       "      <th>Order ID</th>\n",
       "      <th>Order Date</th>\n",
       "      <th>Date Key</th>\n",
       "      <th>Contact Name</th>\n",
       "      <th>Country</th>\n",
       "      <th>City</th>\n",
       "      <th>Region</th>\n",
       "      <th>Subregion</th>\n",
       "      <th>Customer</th>\n",
       "      <th>...</th>\n",
       "      <th>License</th>\n",
       "      <th>Sales</th>\n",
       "      <th>Quantity</th>\n",
       "      <th>Discount</th>\n",
       "      <th>Profit</th>\n",
       "      <th>sales_before_discount</th>\n",
       "      <th>Profit_before_discount</th>\n",
       "      <th>best_discount</th>\n",
       "      <th>sales_after_best_discount</th>\n",
       "      <th>Profit_after_best_discount</th>\n",
       "    </tr>\n",
       "  </thead>\n",
       "  <tbody>\n",
       "    <tr>\n",
       "      <th>3228</th>\n",
       "      <td>3229</td>\n",
       "      <td>AMER-2020-108189</td>\n",
       "      <td>2020-10-02</td>\n",
       "      <td>20201002</td>\n",
       "      <td>Sophie Lewis</td>\n",
       "      <td>Chile</td>\n",
       "      <td>Puente Alto</td>\n",
       "      <td>AMER</td>\n",
       "      <td>LATAM</td>\n",
       "      <td>Samsung Electronics</td>\n",
       "      <td>...</td>\n",
       "      <td>6P71CRX8TP</td>\n",
       "      <td>7.160</td>\n",
       "      <td>1</td>\n",
       "      <td>0.2</td>\n",
       "      <td>-0.0895</td>\n",
       "      <td>8.95</td>\n",
       "      <td>1.7005</td>\n",
       "      <td>0.015</td>\n",
       "      <td>8.81575</td>\n",
       "      <td>1.56625</td>\n",
       "    </tr>\n",
       "    <tr>\n",
       "      <th>1496</th>\n",
       "      <td>1497</td>\n",
       "      <td>APJ-2023-152485</td>\n",
       "      <td>2023-09-05</td>\n",
       "      <td>20230905</td>\n",
       "      <td>Una Poole</td>\n",
       "      <td>Japan</td>\n",
       "      <td>Tokyo</td>\n",
       "      <td>APJ</td>\n",
       "      <td>JAPN</td>\n",
       "      <td>Exxon Mobil</td>\n",
       "      <td>...</td>\n",
       "      <td>3XXLNXTXRQ</td>\n",
       "      <td>16.784</td>\n",
       "      <td>1</td>\n",
       "      <td>0.2</td>\n",
       "      <td>-0.2098</td>\n",
       "      <td>20.98</td>\n",
       "      <td>3.9862</td>\n",
       "      <td>0.015</td>\n",
       "      <td>20.66530</td>\n",
       "      <td>3.67150</td>\n",
       "    </tr>\n",
       "    <tr>\n",
       "      <th>1566</th>\n",
       "      <td>1567</td>\n",
       "      <td>APJ-2021-129112</td>\n",
       "      <td>2021-11-29</td>\n",
       "      <td>20211129</td>\n",
       "      <td>Hannah Hughes</td>\n",
       "      <td>Japan</td>\n",
       "      <td>Fukuoka</td>\n",
       "      <td>APJ</td>\n",
       "      <td>JAPN</td>\n",
       "      <td>Amazon</td>\n",
       "      <td>...</td>\n",
       "      <td>OQYOI9TS4B</td>\n",
       "      <td>21.480</td>\n",
       "      <td>3</td>\n",
       "      <td>0.2</td>\n",
       "      <td>-0.2685</td>\n",
       "      <td>26.85</td>\n",
       "      <td>5.1015</td>\n",
       "      <td>0.015</td>\n",
       "      <td>26.44725</td>\n",
       "      <td>4.69875</td>\n",
       "    </tr>\n",
       "    <tr>\n",
       "      <th>7413</th>\n",
       "      <td>7414</td>\n",
       "      <td>EMEA-2023-121125</td>\n",
       "      <td>2023-05-31</td>\n",
       "      <td>20230531</td>\n",
       "      <td>Pippa Chapman</td>\n",
       "      <td>Belgium</td>\n",
       "      <td>Antwerp</td>\n",
       "      <td>EMEA</td>\n",
       "      <td>EU-WEST</td>\n",
       "      <td>China National Petroleum</td>\n",
       "      <td>...</td>\n",
       "      <td>F3LLXXH0A6</td>\n",
       "      <td>13.592</td>\n",
       "      <td>1</td>\n",
       "      <td>0.2</td>\n",
       "      <td>-0.3398</td>\n",
       "      <td>16.99</td>\n",
       "      <td>3.0582</td>\n",
       "      <td>0.015</td>\n",
       "      <td>16.73515</td>\n",
       "      <td>2.80335</td>\n",
       "    </tr>\n",
       "    <tr>\n",
       "      <th>4660</th>\n",
       "      <td>4661</td>\n",
       "      <td>EMEA-2021-112130</td>\n",
       "      <td>2021-05-03</td>\n",
       "      <td>20210503</td>\n",
       "      <td>Alexander Hill</td>\n",
       "      <td>France</td>\n",
       "      <td>Paris</td>\n",
       "      <td>EMEA</td>\n",
       "      <td>EU-WEST</td>\n",
       "      <td>Philip Morris International</td>\n",
       "      <td>...</td>\n",
       "      <td>IBQJP1JR9Y</td>\n",
       "      <td>27.552</td>\n",
       "      <td>3</td>\n",
       "      <td>0.2</td>\n",
       "      <td>-0.3444</td>\n",
       "      <td>34.44</td>\n",
       "      <td>6.5436</td>\n",
       "      <td>0.015</td>\n",
       "      <td>33.92340</td>\n",
       "      <td>6.02700</td>\n",
       "    </tr>\n",
       "  </tbody>\n",
       "</table>\n",
       "<p>5 rows × 24 columns</p>\n",
       "</div>"
      ],
      "text/plain": [
       "      Row ID          Order ID Order Date  Date Key    Contact Name  Country  \\\n",
       "3228    3229  AMER-2020-108189 2020-10-02  20201002    Sophie Lewis    Chile   \n",
       "1496    1497   APJ-2023-152485 2023-09-05  20230905       Una Poole    Japan   \n",
       "1566    1567   APJ-2021-129112 2021-11-29  20211129   Hannah Hughes    Japan   \n",
       "7413    7414  EMEA-2023-121125 2023-05-31  20230531   Pippa Chapman  Belgium   \n",
       "4660    4661  EMEA-2021-112130 2021-05-03  20210503  Alexander Hill   France   \n",
       "\n",
       "             City Region Subregion                     Customer  ...  \\\n",
       "3228  Puente Alto   AMER     LATAM          Samsung Electronics  ...   \n",
       "1496        Tokyo    APJ      JAPN                  Exxon Mobil  ...   \n",
       "1566      Fukuoka    APJ      JAPN                       Amazon  ...   \n",
       "7413      Antwerp   EMEA   EU-WEST     China National Petroleum  ...   \n",
       "4660        Paris   EMEA   EU-WEST  Philip Morris International  ...   \n",
       "\n",
       "         License   Sales Quantity Discount  Profit  sales_before_discount  \\\n",
       "3228  6P71CRX8TP   7.160        1      0.2 -0.0895                   8.95   \n",
       "1496  3XXLNXTXRQ  16.784        1      0.2 -0.2098                  20.98   \n",
       "1566  OQYOI9TS4B  21.480        3      0.2 -0.2685                  26.85   \n",
       "7413  F3LLXXH0A6  13.592        1      0.2 -0.3398                  16.99   \n",
       "4660  IBQJP1JR9Y  27.552        3      0.2 -0.3444                  34.44   \n",
       "\n",
       "      Profit_before_discount  best_discount  sales_after_best_discount  \\\n",
       "3228                  1.7005          0.015                    8.81575   \n",
       "1496                  3.9862          0.015                   20.66530   \n",
       "1566                  5.1015          0.015                   26.44725   \n",
       "7413                  3.0582          0.015                   16.73515   \n",
       "4660                  6.5436          0.015                   33.92340   \n",
       "\n",
       "      Profit_after_best_discount  \n",
       "3228                     1.56625  \n",
       "1496                     3.67150  \n",
       "1566                     4.69875  \n",
       "7413                     2.80335  \n",
       "4660                     6.02700  \n",
       "\n",
       "[5 rows x 24 columns]"
      ]
     },
     "execution_count": 47,
     "metadata": {},
     "output_type": "execute_result"
    }
   ],
   "source": [
    "df_loss.sort_values(by='Profit', ascending = False).head()"
   ]
  },
  {
   "cell_type": "code",
   "execution_count": null,
   "metadata": {},
   "outputs": [],
   "source": []
  }
 ],
 "metadata": {
  "kernelspec": {
   "display_name": "Python 3",
   "language": "python",
   "name": "python3"
  },
  "language_info": {
   "codemirror_mode": {
    "name": "ipython",
    "version": 3
   },
   "file_extension": ".py",
   "mimetype": "text/x-python",
   "name": "python",
   "nbconvert_exporter": "python",
   "pygments_lexer": "ipython3",
   "version": "3.10.7"
  }
 },
 "nbformat": 4,
 "nbformat_minor": 2
}
